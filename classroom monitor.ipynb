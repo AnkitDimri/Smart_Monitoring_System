{
 "cells": [
  {
   "cell_type": "code",
   "execution_count": 2,
   "metadata": {},
   "outputs": [],
   "source": [
    "import cv2\n",
    "import numpy as np\n",
    "# import dlib\n",
    "import matplotlib.pyplot as plt\n",
    "import pandas as pd\n",
    "from scipy.stats import norm"
   ]
  },
  {
   "cell_type": "code",
   "execution_count": 5,
   "metadata": {},
   "outputs": [],
   "source": [
    "def find_distracted (students):\n",
    "        \n",
    "    var_o_var = []\n",
    "    for s in students:\n",
    "        \n",
    "        nt = students [s] ['df'].values [33].tolist()\n",
    "        ntx = nt [0::2]\n",
    "        mean = np.mean (ntx)\n",
    "        sigma = np.std (ntx)\n",
    "        sigmanorm = np.std(ntx)/abs(students [s]['box'][1] - students[s]['box'][0])\n",
    "\n",
    "        var_o_var.append (sigmanorm)\n",
    "        \n",
    "    sigma_s = np.std (var_o_var)\n",
    "    \n",
    "    mean_s = np.mean (var_o_var)\n",
    "    \n",
    "    disturbed = []\n",
    "    print (\"threshold: \", mean_s + sigma_s)\n",
    "    for i in range (len (var_o_var)):\n",
    "        print (var_o_var [i])\n",
    "        if var_o_var [i] >= mean_s + sigma_s:\n",
    "            disturbed.append ((i+1))\n",
    "            \n",
    "    return disturbed\n",
    "        \n"
   ]
  },
  {
   "cell_type": "code",
   "execution_count": 6,
   "metadata": {},
   "outputs": [
    {
     "ename": "NameError",
     "evalue": "name 'students' is not defined",
     "output_type": "error",
     "traceback": [
      "\u001b[0;31m---------------------------------------------------------------------------\u001b[0m",
      "\u001b[0;31mNameError\u001b[0m                                 Traceback (most recent call last)",
      "\u001b[0;32m<ipython-input-6-895aed62d955>\u001b[0m in \u001b[0;36m<module>\u001b[0;34m\u001b[0m\n\u001b[0;32m----> 1\u001b[0;31m \u001b[0mfind_distracted\u001b[0m \u001b[0;34m(\u001b[0m\u001b[0mstudents\u001b[0m\u001b[0;34m)\u001b[0m\u001b[0;34m\u001b[0m\u001b[0;34m\u001b[0m\u001b[0m\n\u001b[0m",
      "\u001b[0;31mNameError\u001b[0m: name 'students' is not defined"
     ]
    }
   ],
   "source": [
    "find_distracted (students)"
   ]
  },
  {
   "cell_type": "code",
   "execution_count": null,
   "metadata": {},
   "outputs": [],
   "source": []
  },
  {
   "cell_type": "code",
   "execution_count": 7,
   "metadata": {},
   "outputs": [],
   "source": [
    "def find_face1 (x1,y1,stu):\n",
    "    \n",
    "    maxx = 0.0\n",
    "    maxy = 0.0\n",
    "    sdnt = ''\n",
    "    flag = 0\n",
    "    \n",
    "    for s in stu:\n",
    "        temp1 = norm.pdf (x1, np.mean (stu [s] ['x1']), stu [s]['sd'])\n",
    "        temp2 = norm.pdf (y1 ,np.mean (stu [s] ['y1']), stu [s]['sd'])\n",
    "        if (temp1 > maxx and temp1 > 0.00000001):\n",
    "            maxx = temp1\n",
    "            if(temp2 > maxy and temp2 > 0.00000001):\n",
    "                maxy = temp2\n",
    "                sdnt = s\n",
    "                flag = 1\n",
    "            \n",
    "    if (flag == 0):\n",
    "        stu [len (stu) + 1] = {'x1': [x1],'y1':[y1], 'df':pd.DataFrame (), 'sd': 10}\n",
    "        return (len (stu), stu)\n",
    "    \n",
    "    stu [sdnt] ['x1'].append (x1)\n",
    "    stu [sdnt] ['y1'].append (y1)\n",
    "    return (sdnt, stu)"
   ]
  },
  {
   "cell_type": "code",
   "execution_count": 8,
   "metadata": {},
   "outputs": [],
   "source": [
    "def find_face2 (x1, y1 , stu):\n",
    "    \n",
    "    max = 0.0\n",
    "    sdnt = ''\n",
    "    flag = 0\n",
    "    \n",
    "    for s in stu:\n",
    "        temp = norm.pdf (x1, np.mean (stu [s] ['x1']), stu [s]['sd'])\n",
    "        if (temp > max and temp > 0.00000001):\n",
    "            max = temp\n",
    "            sdnt = s\n",
    "            flag = 1\n",
    "            \n",
    "    if (flag == 0):\n",
    "        stu [len (stu) + 1] = {'x1': [x1],'y1':[y1], 'df':pd.DataFrame (), 'sd': 10}\n",
    "        return (len (stu), stu)\n",
    "    \n",
    "    stu [sdnt] ['x1'].append (x1)\n",
    "    stu [sdnt] ['y1'].append (y1)\n",
    "    return (sdnt, stu)"
   ]
  },
  {
   "cell_type": "code",
   "execution_count": 9,
   "metadata": {
    "scrolled": false
   },
   "outputs": [
    {
     "ename": "NameError",
     "evalue": "name 'dlib' is not defined",
     "output_type": "error",
     "traceback": [
      "\u001b[0;31m---------------------------------------------------------------------------\u001b[0m",
      "\u001b[0;31mNameError\u001b[0m                                 Traceback (most recent call last)",
      "\u001b[0;32m<ipython-input-9-db5a9f45992e>\u001b[0m in \u001b[0;36m<module>\u001b[0;34m\u001b[0m\n\u001b[1;32m      4\u001b[0m \u001b[0;34m\u001b[0m\u001b[0m\n\u001b[1;32m      5\u001b[0m \u001b[0mcap\u001b[0m \u001b[0;34m=\u001b[0m \u001b[0mcv2\u001b[0m\u001b[0;34m.\u001b[0m\u001b[0mVideoCapture\u001b[0m\u001b[0;34m(\u001b[0m\u001b[0;36m0\u001b[0m\u001b[0;34m)\u001b[0m\u001b[0;34m\u001b[0m\u001b[0;34m\u001b[0m\u001b[0m\n\u001b[0;32m----> 6\u001b[0;31m \u001b[0mdetector\u001b[0m \u001b[0;34m=\u001b[0m \u001b[0mdlib\u001b[0m\u001b[0;34m.\u001b[0m\u001b[0mget_frontal_face_detector\u001b[0m\u001b[0;34m(\u001b[0m\u001b[0;34m)\u001b[0m\u001b[0;34m\u001b[0m\u001b[0;34m\u001b[0m\u001b[0m\n\u001b[0m\u001b[1;32m      7\u001b[0m \u001b[0mpredictor\u001b[0m \u001b[0;34m=\u001b[0m \u001b[0mdlib\u001b[0m\u001b[0;34m.\u001b[0m\u001b[0mshape_predictor\u001b[0m\u001b[0;34m(\u001b[0m\u001b[0;34m\"/home/dheeraj/my_projects/my_project_env/practice/Smart_Monitoring_System/shape_predictor_68_face_landmarks.dat\"\u001b[0m\u001b[0;34m)\u001b[0m\u001b[0;34m\u001b[0m\u001b[0;34m\u001b[0m\u001b[0m\n\u001b[1;32m      8\u001b[0m \u001b[0;34m\u001b[0m\u001b[0m\n",
      "\u001b[0;31mNameError\u001b[0m: name 'dlib' is not defined"
     ]
    }
   ],
   "source": [
    "df = pd.DataFrame()\n",
    "students = {}\n",
    "distracted = []\n",
    "\n",
    "cap = cv2.VideoCapture(0)\n",
    "detector = dlib.get_frontal_face_detector()\n",
    "predictor = dlib.shape_predictor(\"/home/dheeraj/my_projects/my_project_env/practice/Smart_Monitoring_System/shape_predictor_68_face_landmarks.dat\")\n",
    "\n",
    "for i in range(300):\n",
    "    _, frame = cap.read()\n",
    "    gray = cv2.cvtColor(frame, cv2.COLOR_BGR2GRAY)\n",
    "\n",
    "    faces = detector(gray)\n",
    "    \n",
    "    for face in faces:\n",
    "        \n",
    "        x1 = face.left()\n",
    "        y1 = face.top()\n",
    "        x2 = face.right()\n",
    "        y2 = face.bottom()\n",
    "        #cv2.rectangle(frame, (x1, y1), (x2, y2), (0, 255, 0), 3)\n",
    "        \n",
    "        #f, students = find_face (x1, x2, students)\n",
    "        f, students = find_face1(x1, y1, students)\n",
    "        #f, students = find_face2(x1, y1, students)\n",
    "        \n",
    "        print (\"student (f): \", f)\n",
    "        print (\"distracted: \", distracted)\n",
    "        if f in distracted:\n",
    "            cv2.rectangle(frame, (x1, y1), (x2, y2), (0, 0, 255), 3)\n",
    "        else:\n",
    "            cv2.rectangle(frame, (x1, y1), (x2, y2), (255, 0, 0), 3)\n",
    "        \n",
    "        landmarks = predictor(gray, face)\n",
    "        xc = []\n",
    "        yc = []\n",
    "        for n in range(0, 68):\n",
    "            x = landmarks.part(n).x\n",
    "            y = landmarks.part(n).y\n",
    "            xc.append(x)\n",
    "            yc.append(y)\n",
    "            cv2.circle(frame, (x, y), 4, (255, 0, 0), -1)\n",
    "            \n",
    "        students [f] ['df'] ['x'+str(i)] = xc\n",
    "        students [f] ['df'] ['y'+str(i)] = yc\n",
    "        students [f] ['box'] = list ((x1, x2))\n",
    "    \n",
    "    cv2.imshow(\"Frame\", frame)\n",
    "    print (len (students))\n",
    "    \n",
    "    distracted = find_distracted (students)\n",
    "    \n",
    "\n",
    "    key = cv2.waitKey(1)\n",
    "    if key == 27:\n",
    "        break\n",
    "        \n",
    "cap.release ()\n",
    "cv2.destroyAllWindows ()"
   ]
  },
  {
   "cell_type": "code",
   "execution_count": 61,
   "metadata": {},
   "outputs": [],
   "source": [
    "cap = cv2.VideoCapture(0)\n",
    "\n",
    "for i in range (50):\n",
    "    _, frame = cap.read()\n",
    "    gray = cv2.cvtColor(frame, cv2.COLOR_BGR2GRAY)\n",
    "    cv2.rectangle (frame, (0, 0), (300, 350), (255, 0, 0), 3)\n",
    "    cv2.imshow(\"Frame\", frame)\n",
    "    \n",
    "    key = cv2.waitKey(1)\n",
    "    if key == 27:\n",
    "        break\n",
    "    \n",
    "cap.release ()\n",
    "cv2.destroyAllWindows ()"
   ]
  },
  {
   "cell_type": "code",
   "execution_count": 28,
   "metadata": {},
   "outputs": [
    {
     "ename": "SyntaxError",
     "evalue": "invalid syntax (<ipython-input-28-a760616ac932>, line 1)",
     "output_type": "error",
     "traceback": [
      "\u001b[0;36m  File \u001b[0;32m\"<ipython-input-28-a760616ac932>\"\u001b[0;36m, line \u001b[0;32m1\u001b[0m\n\u001b[0;31m    def scaling:\u001b[0m\n\u001b[0m               ^\u001b[0m\n\u001b[0;31mSyntaxError\u001b[0m\u001b[0;31m:\u001b[0m invalid syntax\n"
     ]
    }
   ],
   "source": [
    "def scaling:\n",
    "    "
   ]
  },
  {
   "cell_type": "code",
   "execution_count": 15,
   "metadata": {},
   "outputs": [
    {
     "data": {
      "text/plain": [
       "1"
      ]
     },
     "execution_count": 15,
     "metadata": {},
     "output_type": "execute_result"
    }
   ],
   "source": [
    "len (students)"
   ]
  },
  {
   "cell_type": "code",
   "execution_count": 49,
   "metadata": {},
   "outputs": [],
   "source": [
    "cap.release ()\n",
    "cv2.destroyAllWindows ()"
   ]
  },
  {
   "cell_type": "code",
   "execution_count": null,
   "metadata": {},
   "outputs": [],
   "source": [
    "students"
   ]
  },
  {
   "cell_type": "code",
   "execution_count": 9,
   "metadata": {},
   "outputs": [
    {
     "name": "stdout",
     "output_type": "stream",
     "text": [
      "[228, 377]\n",
      "[286, 411]\n"
     ]
    }
   ],
   "source": [
    "for s in students:\n",
    "    \n",
    "    print (students [s] ['box'])"
   ]
  },
  {
   "cell_type": "code",
   "execution_count": null,
   "metadata": {},
   "outputs": [],
   "source": []
  },
  {
   "cell_type": "code",
   "execution_count": 63,
   "metadata": {},
   "outputs": [
    {
     "name": "stdout",
     "output_type": "stream",
     "text": [
      "1\n",
      "[253, 256, 256, 257, 269, 279, 282, 282, 283, 284, 285, 286, 287, 288, 288, 289, 289, 289, 289, 289, 289, 289, 289, 289, 289, 290, 292, 292, 293, 293, 296, 296, 298, 299, 299, 299, 300, 301, 301, 302, 303, 303, 304, 304, 306, 306, 307, 307, 308, 309, 310, 310, 311, 312, 312, 313, 313, 314, 314, 314, 315, 315, 315, 315, 315, 315, 315, 315, 315, 315, 315, 315, 316, 316, 316, 316, 316, 316, 316, 316, 316, 316, 316, 316, 316, 316, 316, 316, 317, 317, 318, 318, 319, 319, 320, 320, 320, 320, 320, 320, 320, 320, 320, 320, 320, 320, 320, 320, 321, 321, 321, 322, 322, 323, 323, 323, 324, 324, 325, 325, 326, 327, 327, 328, 328, 328, 328, 328, 328, 328, 328, 329, 329, 329, 329, 330, 330, 331, 331, 331, 331, 332, 333, 334, 334, 335, 336, 338, 338, 338, 339, 340, 340, 341, 342, 342, 342, 342, 343, 343, 344, 344, 344, 344, 345, 345, 349, 351, 352, 354, 354, 356, 356, 357, 357]\n",
      "125\n",
      "20.466546920698246\n",
      "0.16373237536558596\n",
      "2\n",
      "[539, 539, 539, 539, 540, 540, 540, 543, 543, 543, 543, 543, 543, 544, 544, 544, 544, 544, 544, 544, 544, 544, 544, 544, 544, 544, 544, 544, 544, 544, 544, 544, 544, 544, 544, 544, 544, 544, 544, 545, 545, 545, 545, 545, 545, 545, 545, 545, 545, 546, 546, 546, 546, 546, 546, 546, 546, 546, 546, 546, 546, 546, 547, 547, 547, 547, 547, 547, 547, 547, 547, 547, 547, 547, 547, 547, 547, 547, 547, 547, 547, 547, 548, 550, 550, 550, 551, 551, 551, 551, 551, 551, 551, 551, 551, 551, 551, 551, 551, 551, 551, 551, 552, 552, 552, 552, 552, 552, 552, 552, 552, 552, 552, 552, 552, 552, 552, 552, 552, 552, 552, 552, 552, 552, 552, 552, 552, 552, 552, 552, 552, 552, 552, 552, 552, 552, 552, 552, 552, 552, 552, 552, 552, 552, 552, 553, 553, 553, 553, 553, 553, 553, 553, 553, 553, 553, 553, 553, 553, 553, 553, 553, 553, 553, 553, 553, 553, 553, 553, 553, 553, 553, 553, 553, 553, 553, 553, 553, 553, 553, 553, 553, 553, 553, 553, 553, 553, 553, 553, 553, 553, 553, 553, 553, 553, 553, 553, 553, 553, 553, 553, 554, 554, 554, 554, 554, 554, 554, 554, 554, 554, 554, 554, 554, 554, 554, 554, 554, 554, 554, 554, 554, 554, 555, 555, 555, 555, 555, 555, 555, 555, 555, 555, 555, 556, 556, 556, 556, 558, 558, 559, 559, 559, 559, 559]\n",
      "72\n",
      "4.350139666573998\n",
      "0.06041860648019442\n",
      "3\n",
      "[217, 219, 220, 220, 220, 221, 221, 221, 222, 222, 222, 223, 223, 223, 223, 223, 223, 223, 224, 224, 224, 224, 224, 224, 224, 224, 224, 225, 225, 225, 225, 225, 226, 226, 226, 226, 226, 226, 226, 227, 227, 227, 227, 227, 228, 229, 231, 232, 232, 232, 233, 233, 233, 233, 233, 235, 235, 235, 236, 236, 236, 238, 239, 239, 240, 240, 242, 242, 243, 243, 244, 244, 244, 244, 245, 245, 246, 246, 247, 247, 248, 248, 249, 250, 250, 250, 250, 251, 251, 251, 251, 252, 252, 253, 253, 253, 253, 254, 254, 254, 255, 255, 255, 256, 256, 256, 257, 259, 259, 261, 264, 264, 265, 266, 267, 267, 268, 270, 271, 272, 272, 272, 282, 288]\n",
      "124\n",
      "16.14785997876686\n",
      "0.13022467724811984\n"
     ]
    },
    {
     "data": {
      "image/png": "[encoded data removed]",
      "text/plain": [
       "<Figure size 432x288 with 1 Axes>"
      ]
     },
     "metadata": {
      "needs_background": "light"
     },
     "output_type": "display_data"
    }
   ],
   "source": [
    "for s in students:\n",
    "    \n",
    "    nt = students [s] ['df'].values [33].tolist()\n",
    "    ntx = nt [0::2]\n",
    "    ntx.sort()\n",
    "    mean = np.mean (ntx)\n",
    "    sigma = np.std (ntx)\n",
    "    sigmanorm = np.std(ntx)/abs(students [s]['box'][1] - students[s]['box'][0])\n",
    "    #plt.ylim ((0, 1))\n",
    "    plt.plot (ntx, norm.pdf (ntx, mean, sigma))\n",
    "    #plt.show ()\n",
    "    print (s)\n",
    "    print (ntx)\n",
    "    print (students [s]['box'][1] - students[s]['box'][0])\n",
    "    print (sigma)\n",
    "    print (sigmanorm)\n",
    "\n",
    "plt.show ()"
   ]
  },
  {
   "cell_type": "code",
   "execution_count": 64,
   "metadata": {},
   "outputs": [
    {
     "name": "stdout",
     "output_type": "stream",
     "text": [
      "[203, 328]\n",
      "[517, 589]\n",
      "[162, 286]\n"
     ]
    }
   ],
   "source": [
    "for s in students:\n",
    "    \n",
    "    print (students [s] ['box'])"
   ]
  },
  {
   "cell_type": "code",
   "execution_count": 65,
   "metadata": {},
   "outputs": [
    {
     "name": "stdout",
     "output_type": "stream",
     "text": [
      "threshold:  0.16116188131789258\n",
      "0.163732375365586\n",
      "0.06041860648019442\n",
      "0.13022467724811987\n"
     ]
    },
    {
     "data": {
      "text/plain": [
       "[1]"
      ]
     },
     "execution_count": 65,
     "metadata": {},
     "output_type": "execute_result"
    }
   ],
   "source": [
    "find_distracted (students)"
   ]
  },
  {
   "cell_type": "code",
   "execution_count": null,
   "metadata": {},
   "outputs": [],
   "source": []
  },
  {
   "cell_type": "code",
   "execution_count": null,
   "metadata": {},
   "outputs": [],
   "source": []
  },
  {
   "cell_type": "code",
   "execution_count": null,
   "metadata": {},
   "outputs": [],
   "source": []
  },
  {
   "cell_type": "code",
   "execution_count": null,
   "metadata": {},
   "outputs": [],
   "source": []
  },
  {
   "cell_type": "code",
   "execution_count": null,
   "metadata": {},
   "outputs": [],
   "source": [
    "cap.release ()\n",
    "cv2.destroyAllWindows ()"
   ]
  },
  {
   "cell_type": "code",
   "execution_count": null,
   "metadata": {},
   "outputs": [],
   "source": []
  },
  {
   "cell_type": "code",
   "execution_count": null,
   "metadata": {},
   "outputs": [],
   "source": [
    "norm.pdf (350, 450, 15)"
   ]
  },
  {
   "cell_type": "code",
   "execution_count": null,
   "metadata": {},
   "outputs": [],
   "source": []
  },
  {
   "cell_type": "code",
   "execution_count": null,
   "metadata": {},
   "outputs": [],
   "source": []
  },
  {
   "cell_type": "code",
   "execution_count": null,
   "metadata": {},
   "outputs": [],
   "source": [
    "students [1] ['df']"
   ]
  },
  {
   "cell_type": "code",
   "execution_count": null,
   "metadata": {},
   "outputs": [],
   "source": []
  },
  {
   "cell_type": "code",
   "execution_count": null,
   "metadata": {},
   "outputs": [],
   "source": []
  }
 ],
 "metadata": {
  "kernelspec": {
   "display_name": "Python 3",
   "language": "python",
   "name": "python3"
  },
  "language_info": {
   "codemirror_mode": {
    "name": "ipython",
    "version": 3
   },
   "file_extension": ".py",
   "mimetype": "text/x-python",
   "name": "python",
   "nbconvert_exporter": "python",
   "pygments_lexer": "ipython3",
   "version": "3.6.8"
  }
 },
 "nbformat": 4,
 "nbformat_minor": 2
}
