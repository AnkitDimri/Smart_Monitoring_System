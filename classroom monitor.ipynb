{
 "cells": [
  {
   "cell_type": "code",
   "execution_count": 1,
   "metadata": {},
   "outputs": [],
   "source": [
    "import cv2\n",
    "import numpy as np\n",
    "import dlib\n",
    "import matplotlib.pyplot as plt\n",
    "import pandas as pd\n",
    "from scipy.stats import norm"
   ]
  },
  {
   "cell_type": "code",
   "execution_count": 42,
   "metadata": {},
   "outputs": [],
   "source": [
    "def find_distracted (students):\n",
    "        \n",
    "    var_o_var = []\n",
    "    for s in students:\n",
    "        \n",
    "        nt = students [s] ['df'].values [33].tolist()\n",
    "        ntx = nt [0::2]\n",
    "        mean = np.mean (ntx)\n",
    "        sigma = np.std (ntx)\n",
    "        sigmanorm = np.std(ntx)/abs(students [s]['box'][1] - students[s]['box'][0])\n",
    "\n",
    "        var_o_var.append (sigmanorm)\n",
    "        \n",
    "    sigma_s = np.std (var_o_var)\n",
    "    \n",
    "    mean_s = np.mean (var_o_var)\n",
    "    \n",
    "    disturbed = []\n",
    "    print (\"threshold: \", mean_s + sigma_s)\n",
    "    for i in range (len (var_o_var)):\n",
    "        print (var_o_var [i])\n",
    "        if var_o_var [i] >= mean_s + sigma_s:\n",
    "            disturbed.append (i+1)\n",
    "            \n",
    "    return disturbed\n",
    "        \n",
    "    "
   ]
  },
  {
   "cell_type": "code",
   "execution_count": null,
   "metadata": {},
   "outputs": [],
   "source": []
  },
  {
   "cell_type": "code",
   "execution_count": null,
   "metadata": {},
   "outputs": [],
   "source": []
  },
  {
   "cell_type": "code",
   "execution_count": 2,
   "metadata": {},
   "outputs": [],
   "source": [
    "def find_face1 (x1,y1,stu):\n",
    "    \n",
    "    maxx = 0.0\n",
    "    maxy = 0.0\n",
    "    sdnt = ''\n",
    "    flag = 0\n",
    "    \n",
    "    for s in stu:\n",
    "        temp1 = norm.pdf (x1, np.mean (stu [s] ['x1']), stu [s]['sd'])\n",
    "        temp2 = norm.pdf (y1 ,np.mean (stu [s] ['y1']), stu [s]['sd'])\n",
    "        if (temp1 > maxx and temp1 > 0.00000001):\n",
    "            maxx = temp1\n",
    "            if(temp2 > maxy and temp2 > 0.00000001):\n",
    "                maxy = temp2\n",
    "                sdnt = s\n",
    "                flag = 1\n",
    "            \n",
    "    if (flag == 0):\n",
    "        stu [len (stu) + 1] = {'x1': [x1],'y1':[y1], 'df':pd.DataFrame (), 'sd': 10}\n",
    "        return (len (stu), stu)\n",
    "    \n",
    "    stu [sdnt] ['x1'].append (x1)\n",
    "    stu [sdnt] ['y1'].append (y1)\n",
    "    return (sdnt, stu)"
   ]
  },
  {
   "cell_type": "code",
   "execution_count": 3,
   "metadata": {},
   "outputs": [],
   "source": [
    "def find_face2 (x1, y1 , stu):\n",
    "    \n",
    "    max = 0.0\n",
    "    sdnt = ''\n",
    "    flag = 0\n",
    "    \n",
    "    for s in stu:\n",
    "        temp = norm.pdf (x1, np.mean (stu [s] ['x1']), stu [s]['sd'])\n",
    "        if (temp > max and temp > 0.00000001):\n",
    "            max = temp\n",
    "            sdnt = s\n",
    "            flag = 1\n",
    "            \n",
    "    if (flag == 0):\n",
    "        stu [len (stu) + 1] = {'x1': [x1],'y1':[y1], 'df':pd.DataFrame (), 'sd': 10}\n",
    "        return (len (stu), stu)\n",
    "    \n",
    "    stu [sdnt] ['x1'].append (x1)\n",
    "    stu [sdnt] ['y1'].append (y1)\n",
    "    return (sdnt, stu)"
   ]
  },
  {
   "cell_type": "code",
   "execution_count": 32,
   "metadata": {
    "scrolled": false
   },
   "outputs": [
    {
     "name": "stdout",
     "output_type": "stream",
     "text": [
      "1\n",
      "1\n",
      "1\n",
      "1\n",
      "1\n",
      "1\n",
      "1\n",
      "1\n",
      "1\n",
      "1\n",
      "1\n",
      "1\n",
      "1\n",
      "1\n",
      "1\n",
      "2\n",
      "2\n",
      "2\n",
      "2\n",
      "2\n",
      "2\n",
      "2\n",
      "2\n",
      "2\n",
      "2\n",
      "2\n",
      "2\n",
      "2\n",
      "2\n",
      "2\n",
      "2\n",
      "2\n",
      "2\n",
      "2\n",
      "2\n",
      "2\n",
      "2\n",
      "2\n",
      "2\n",
      "2\n",
      "2\n",
      "2\n",
      "2\n",
      "2\n",
      "2\n",
      "2\n",
      "2\n",
      "2\n",
      "2\n",
      "2\n",
      "2\n",
      "2\n",
      "2\n",
      "2\n",
      "2\n",
      "2\n",
      "2\n",
      "2\n",
      "2\n",
      "2\n",
      "2\n",
      "2\n",
      "2\n",
      "2\n",
      "2\n",
      "2\n",
      "2\n",
      "2\n",
      "2\n",
      "2\n",
      "2\n",
      "2\n",
      "2\n",
      "2\n",
      "2\n",
      "2\n",
      "2\n",
      "2\n",
      "2\n",
      "2\n",
      "2\n",
      "2\n",
      "2\n",
      "2\n",
      "2\n",
      "2\n",
      "2\n",
      "2\n",
      "2\n",
      "2\n",
      "2\n",
      "2\n",
      "2\n",
      "2\n",
      "2\n",
      "2\n",
      "2\n",
      "2\n",
      "2\n",
      "2\n",
      "2\n",
      "2\n",
      "2\n",
      "2\n",
      "2\n",
      "2\n",
      "2\n",
      "2\n",
      "2\n",
      "2\n",
      "2\n",
      "2\n",
      "2\n",
      "2\n",
      "2\n",
      "2\n",
      "2\n",
      "2\n",
      "2\n",
      "2\n",
      "2\n",
      "2\n",
      "2\n",
      "2\n",
      "2\n",
      "2\n",
      "2\n",
      "2\n",
      "2\n",
      "2\n",
      "2\n",
      "2\n",
      "2\n",
      "2\n",
      "2\n",
      "2\n",
      "2\n",
      "2\n",
      "2\n",
      "2\n",
      "2\n",
      "2\n",
      "2\n",
      "2\n",
      "2\n",
      "2\n",
      "2\n",
      "2\n",
      "2\n",
      "2\n",
      "2\n",
      "2\n",
      "2\n",
      "2\n",
      "2\n",
      "2\n",
      "2\n",
      "2\n",
      "2\n",
      "2\n",
      "2\n",
      "2\n",
      "2\n",
      "2\n",
      "2\n",
      "2\n",
      "2\n",
      "2\n",
      "2\n",
      "2\n",
      "2\n",
      "2\n",
      "2\n",
      "2\n",
      "2\n",
      "2\n",
      "2\n",
      "2\n",
      "2\n",
      "2\n",
      "2\n",
      "2\n",
      "2\n",
      "2\n",
      "2\n",
      "2\n",
      "2\n",
      "2\n",
      "2\n",
      "2\n",
      "2\n",
      "2\n",
      "2\n",
      "2\n",
      "2\n",
      "2\n",
      "2\n",
      "2\n",
      "2\n",
      "2\n",
      "2\n",
      "2\n",
      "2\n",
      "2\n",
      "2\n",
      "2\n",
      "2\n",
      "2\n",
      "2\n",
      "2\n",
      "2\n",
      "2\n",
      "2\n",
      "2\n",
      "2\n",
      "2\n",
      "2\n",
      "2\n",
      "2\n",
      "2\n",
      "2\n",
      "2\n",
      "2\n",
      "2\n",
      "2\n",
      "2\n",
      "2\n",
      "2\n",
      "2\n",
      "2\n",
      "2\n",
      "2\n",
      "2\n",
      "2\n",
      "2\n",
      "2\n",
      "2\n",
      "2\n",
      "2\n",
      "2\n",
      "2\n",
      "2\n",
      "2\n",
      "2\n",
      "2\n",
      "2\n",
      "2\n",
      "2\n",
      "2\n",
      "2\n",
      "2\n",
      "2\n",
      "2\n",
      "2\n",
      "2\n",
      "2\n",
      "2\n",
      "2\n",
      "2\n",
      "2\n",
      "2\n",
      "2\n",
      "2\n",
      "2\n",
      "2\n",
      "2\n",
      "2\n",
      "2\n",
      "2\n",
      "2\n",
      "2\n",
      "2\n",
      "2\n",
      "2\n",
      "2\n",
      "2\n",
      "2\n",
      "2\n",
      "2\n",
      "2\n",
      "2\n",
      "2\n",
      "2\n",
      "2\n",
      "2\n",
      "2\n",
      "2\n",
      "2\n",
      "2\n",
      "2\n",
      "2\n",
      "2\n",
      "2\n",
      "2\n",
      "2\n",
      "2\n",
      "2\n",
      "2\n",
      "2\n",
      "2\n"
     ]
    }
   ],
   "source": [
    "df = pd.DataFrame()\n",
    "students = {}\n",
    "\n",
    "\n",
    "cap = cv2.VideoCapture(0)\n",
    "detector = dlib.get_frontal_face_detector()\n",
    "predictor = dlib.shape_predictor(\"shape_predictor_68_face_landmarks.dat\")\n",
    "\n",
    "for i in range(300):\n",
    "    _, frame = cap.read()\n",
    "    gray = cv2.cvtColor(frame, cv2.COLOR_BGR2GRAY)\n",
    "\n",
    "    faces = detector(gray)\n",
    "    \n",
    "    for face in faces:\n",
    "        \n",
    "        x1 = face.left()\n",
    "        y1 = face.top()\n",
    "        x2 = face.right()\n",
    "        y2 = face.bottom()\n",
    "        cv2.rectangle(frame, (x1, y1), (x2, y2), (0, 255, 0), 3)\n",
    "        \n",
    "        #f, students = find_face (x1, x2, students)\n",
    "        f, students = find_face1(x1, y1, students)\n",
    "        #f, students = find_face2(x1, y1, students)\n",
    "        \n",
    "        landmarks = predictor(gray, face)\n",
    "        xc = []\n",
    "        yc = []\n",
    "        for n in range(0, 68):\n",
    "            x = landmarks.part(n).x\n",
    "            y = landmarks.part(n).y\n",
    "            xc.append(x)\n",
    "            yc.append(y)\n",
    "            cv2.circle(frame, (x, y), 4, (255, 0, 0), -1)\n",
    "            \n",
    "        students [f] ['df'] ['x'+str(i)] = xc\n",
    "        students [f] ['df'] ['y'+str(i)] = yc\n",
    "        students [f] ['box'] = list ((x1, x2))\n",
    "    \n",
    "    cv2.imshow(\"Frame\", frame)\n",
    "    print (len (students))\n",
    "\n",
    "    key = cv2.waitKey(1)\n",
    "    if key == 27:\n",
    "        break\n",
    "        \n",
    "cap.release ()\n",
    "cv2.destroyAllWindows ()"
   ]
  },
  {
   "cell_type": "code",
   "execution_count": 30,
   "metadata": {},
   "outputs": [],
   "source": [
    "cap = cv2.VideoCapture(0)\n",
    "\n",
    "for i in range (50):\n",
    "    _, frame = cap.read()\n",
    "    gray = cv2.cvtColor(frame, cv2.COLOR_BGR2GRAY)\n",
    "    cv2.rectangle (frame, (0, 0), (300, 350), (0, 255, 0), 3)\n",
    "    cv2.imshow(\"Frame\", frame)\n",
    "    \n",
    "    key = cv2.waitKey(1)\n",
    "    if key == 27:\n",
    "        break\n",
    "    \n",
    "cap.release ()\n",
    "cv2.destroyAllWindows ()"
   ]
  },
  {
   "cell_type": "code",
   "execution_count": 28,
   "metadata": {},
   "outputs": [
    {
     "ename": "SyntaxError",
     "evalue": "invalid syntax (<ipython-input-28-a760616ac932>, line 1)",
     "output_type": "error",
     "traceback": [
      "\u001b[0;36m  File \u001b[0;32m\"<ipython-input-28-a760616ac932>\"\u001b[0;36m, line \u001b[0;32m1\u001b[0m\n\u001b[0;31m    def scaling:\u001b[0m\n\u001b[0m               ^\u001b[0m\n\u001b[0;31mSyntaxError\u001b[0m\u001b[0;31m:\u001b[0m invalid syntax\n"
     ]
    }
   ],
   "source": [
    "def scaling:\n",
    "    "
   ]
  },
  {
   "cell_type": "code",
   "execution_count": 15,
   "metadata": {},
   "outputs": [
    {
     "data": {
      "text/plain": [
       "1"
      ]
     },
     "execution_count": 15,
     "metadata": {},
     "output_type": "execute_result"
    }
   ],
   "source": [
    "len (students)"
   ]
  },
  {
   "cell_type": "code",
   "execution_count": 5,
   "metadata": {},
   "outputs": [],
   "source": [
    "cap.release ()\n",
    "cv2.destroyAllWindows ()"
   ]
  },
  {
   "cell_type": "code",
   "execution_count": null,
   "metadata": {},
   "outputs": [],
   "source": [
    "students"
   ]
  },
  {
   "cell_type": "code",
   "execution_count": 9,
   "metadata": {},
   "outputs": [
    {
     "name": "stdout",
     "output_type": "stream",
     "text": [
      "[228, 377]\n",
      "[286, 411]\n"
     ]
    }
   ],
   "source": [
    "for s in students:\n",
    "    \n",
    "    print (students [s] ['box'])"
   ]
  },
  {
   "cell_type": "code",
   "execution_count": null,
   "metadata": {},
   "outputs": [],
   "source": []
  },
  {
   "cell_type": "code",
   "execution_count": 33,
   "metadata": {},
   "outputs": [
    {
     "name": "stdout",
     "output_type": "stream",
     "text": [
      "1\n",
      "[250, 250, 251, 255, 256, 259, 260, 260, 261, 262, 262, 262, 263, 265, 267, 268, 268, 269, 270, 270, 270, 271, 273, 273, 273, 273, 273, 274, 274, 274, 276, 276, 276, 276, 276, 277, 277, 277, 277, 278, 278, 278, 278, 279, 280, 280, 281, 281, 281, 282, 283, 283, 283, 283, 285, 285, 286, 286, 287, 287, 287, 289, 289, 290, 290, 290, 291, 292, 292, 293, 293, 295, 295, 296, 296, 298, 298, 300, 300, 300, 300, 301, 301, 302, 303, 303, 303, 303, 304, 304, 304, 304, 304, 304, 304, 304, 304, 304, 304, 304, 304, 304, 304, 304, 304, 304, 304, 304, 304, 305, 305, 305, 305, 305, 305, 305, 305, 305, 305, 305, 305, 305, 306, 306, 306, 306, 306, 306, 306, 306, 306, 306, 306, 306, 306, 306, 306, 307, 307, 307, 307, 307, 307, 307, 307, 307, 307, 307, 307, 307, 307, 307, 307, 307, 307, 307, 307, 307, 307, 307, 307, 308, 308, 308, 308, 308, 308, 308, 308, 308, 308, 308, 308, 308, 308, 308, 308, 308, 308, 308, 309, 309, 309, 309, 309, 309, 310, 310, 310, 311, 311, 311, 311, 311, 312, 312, 312, 313, 313, 314, 314, 314, 315, 315, 316, 316, 316, 317, 317, 317, 318, 318, 319, 320, 320, 320, 320, 323, 323, 323, 324, 324, 325, 326, 328, 329, 329, 329, 330, 330, 330, 330, 332, 333, 334, 334, 334, 334, 335, 335, 336, 337, 337, 338, 338, 338, 338, 339, 339, 339, 340, 341, 341, 342, 342, 343, 343, 343, 343, 344, 344, 344, 344, 345, 345, 346, 346, 347, 348, 348, 348, 348, 349, 350, 350, 350, 352, 352, 352, 353, 353, 353, 354, 354, 355, 356, 356, 357, 357, 359, 359, 359, 359, 360, 360, 360, 360, 362, 362, 362]\n",
      "149\n",
      "25.788113325501126\n",
      "0.17307458607718876\n",
      "2\n",
      "[512, 513, 514, 514, 515, 515, 515, 515, 515, 515, 516, 516, 516, 516, 517, 517, 520, 520, 520, 520, 520, 520, 520, 520, 520, 520, 521, 521, 521, 521, 521, 521, 521, 521, 521, 521, 521, 521, 521, 521, 521, 521, 521, 521, 521, 521, 521, 521, 521, 522, 522, 522, 522, 523]\n",
      "72\n",
      "2.8136571693556887\n",
      "0.03907857179660679\n"
     ]
    },
    {
     "data": {
      "image/png": "[encoded data removed]",
      "text/plain": [
       "<Figure size 432x288 with 1 Axes>"
      ]
     },
     "metadata": {
      "needs_background": "light"
     },
     "output_type": "display_data"
    }
   ],
   "source": [
    "for s in students:\n",
    "    \n",
    "    nt = students [s] ['df'].values [33].tolist()\n",
    "    ntx = nt [0::2]\n",
    "    ntx.sort()\n",
    "    mean = np.mean (ntx)\n",
    "    sigma = np.std (ntx)\n",
    "    sigmanorm = np.std(ntx)/abs(students [s]['box'][1] - students[s]['box'][0])\n",
    "    #plt.ylim ((0, 1))\n",
    "    plt.plot (ntx, norm.pdf (ntx, mean, sigma))\n",
    "    #plt.show ()\n",
    "    print (s)\n",
    "    print (ntx)\n",
    "    print (students [s]['box'][1] - students[s]['box'][0])\n",
    "    print (sigma)\n",
    "    print (sigmanorm)\n",
    "\n",
    "plt.show ()"
   ]
  },
  {
   "cell_type": "code",
   "execution_count": 25,
   "metadata": {},
   "outputs": [
    {
     "name": "stdout",
     "output_type": "stream",
     "text": [
      "[203, 328]\n",
      "[453, 525]\n"
     ]
    }
   ],
   "source": [
    "for s in students:\n",
    "    \n",
    "    print (students [s] ['box'])"
   ]
  },
  {
   "cell_type": "code",
   "execution_count": 43,
   "metadata": {},
   "outputs": [
    {
     "name": "stdout",
     "output_type": "stream",
     "text": [
      "threshold:  0.17307458607718879\n",
      "0.17307458607718879\n",
      "0.03907857179660679\n"
     ]
    },
    {
     "data": {
      "text/plain": [
       "[1]"
      ]
     },
     "execution_count": 43,
     "metadata": {},
     "output_type": "execute_result"
    }
   ],
   "source": [
    "find_distracted (students)"
   ]
  },
  {
   "cell_type": "code",
   "execution_count": null,
   "metadata": {},
   "outputs": [],
   "source": []
  },
  {
   "cell_type": "code",
   "execution_count": null,
   "metadata": {},
   "outputs": [],
   "source": []
  },
  {
   "cell_type": "code",
   "execution_count": null,
   "metadata": {},
   "outputs": [],
   "source": []
  },
  {
   "cell_type": "code",
   "execution_count": null,
   "metadata": {},
   "outputs": [],
   "source": []
  },
  {
   "cell_type": "code",
   "execution_count": null,
   "metadata": {},
   "outputs": [],
   "source": [
    "cap.release ()\n",
    "cv2.destroyAllWindows ()"
   ]
  },
  {
   "cell_type": "code",
   "execution_count": null,
   "metadata": {},
   "outputs": [],
   "source": []
  },
  {
   "cell_type": "code",
   "execution_count": null,
   "metadata": {},
   "outputs": [],
   "source": [
    "norm.pdf (350, 450, 15)"
   ]
  },
  {
   "cell_type": "code",
   "execution_count": null,
   "metadata": {},
   "outputs": [],
   "source": []
  },
  {
   "cell_type": "code",
   "execution_count": null,
   "metadata": {},
   "outputs": [],
   "source": []
  },
  {
   "cell_type": "code",
   "execution_count": null,
   "metadata": {},
   "outputs": [],
   "source": [
    "students [1] ['df']"
   ]
  },
  {
   "cell_type": "code",
   "execution_count": null,
   "metadata": {},
   "outputs": [],
   "source": []
  },
  {
   "cell_type": "code",
   "execution_count": null,
   "metadata": {},
   "outputs": [],
   "source": []
  }
 ],
 "metadata": {
  "kernelspec": {
   "display_name": "Python 3",
   "language": "python",
   "name": "python3"
  },
  "language_info": {
   "codemirror_mode": {
    "name": "ipython",
    "version": 3
   },
   "file_extension": ".py",
   "mimetype": "text/x-python",
   "name": "python",
   "nbconvert_exporter": "python",
   "pygments_lexer": "ipython3",
   "version": "3.7.5"
  }
 },
 "nbformat": 4,
 "nbformat_minor": 2
}
