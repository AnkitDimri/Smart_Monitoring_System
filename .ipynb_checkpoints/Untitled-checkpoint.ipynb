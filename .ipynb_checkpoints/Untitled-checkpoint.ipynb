{
 "cells": [
  {
   "cell_type": "code",
   "execution_count": 88,
   "metadata": {},
   "outputs": [],
   "source": [
    "import cv2\n",
    "import numpy as np\n",
    "import dlib\n",
    "import matplotlib.pyplot as plt\n",
    "import pandas as pd\n",
    "df = pd.DataFrame()\n",
    "cap = cv2.VideoCapture(0)\n",
    "# l=[]\n",
    "detector = dlib.get_frontal_face_detector()\n",
    "predictor = dlib.shape_predictor(\"shape_predictor_68_face_landmarks.dat\")\n",
    "# _, frame = cap.read()\n",
    "# gray = cv2.cvtColor(frame, cv2.COLOR_BGR2GRAY)\n",
    "\n",
    "# faces = detector(gray)\n",
    "\n",
    "# for face in faces:\n",
    "#     x1 = face.left()\n",
    "#     y1 = face.top()\n",
    "#     x2 = face.right()\n",
    "#     y2 = face.bottom()\n",
    "#     cv2.rectangle(frame, (x1, y1), (x2, y2), (0, 255, 0), 3)\n",
    "    \n",
    "#     landmarks = predictor(gray, face)\n",
    "#     for n in range(0,68):\n",
    "#         x = landmarks.part(n).x\n",
    "#         y = landmarks.part(n).y\n",
    "#         l.append([x,y])\n",
    "#         print (x,y)\n",
    "        #mylist = [1,2,3]\n"
   ]
  },
  {
   "cell_type": "code",
   "execution_count": 89,
   "metadata": {},
   "outputs": [],
   "source": [
    "for i in range(500):\n",
    "    _, frame = cap.read()\n",
    "    gray = cv2.cvtColor(frame, cv2.COLOR_BGR2GRAY)\n",
    "\n",
    "    faces = detector(gray)\n",
    "    for face in faces:\n",
    "        x1 = face.left()\n",
    "        y1 = face.top()\n",
    "        x2 = face.right()\n",
    "        y2 = face.bottom()\n",
    "        cv2.rectangle(frame, (x1, y1), (x2, y2), (0, 255, 0), 3)\n",
    "\n",
    "        landmarks = predictor(gray, face)\n",
    "        xc = []\n",
    "        yc = []\n",
    "        for n in range(0, 68):\n",
    "            x = landmarks.part(n).x\n",
    "            y = landmarks.part(n).y\n",
    "            xc.append(x)\n",
    "            yc.append(y)\n",
    "            cv2.circle(frame, (x, y), 4, (255, 0, 0), -1)\n",
    "            \n",
    "            #diff = \n",
    "            #cv2.line(frame,(l[n][0],l[n][1]),(x,y), (0,0,255), 4)\n",
    "    \n",
    "    df['x'+str(i)] = xc\n",
    "    df['y'+str(i)] = yc\n",
    "    \n",
    "    cv2.imshow(\"Frame\", frame)\n",
    "    #plt.plot(l)\n",
    "    \n",
    "\n",
    "    key = cv2.waitKey(1)\n",
    "    if key == 27:\n",
    "        break\n",
    "        \n",
    "cap.release ()\n",
    "cv2.destroyAllWindows ()"
   ]
  },
  {
   "cell_type": "code",
   "execution_count": 90,
   "metadata": {},
   "outputs": [
    {
     "data": {
      "text/plain": [
       "x0      415\n",
       "y0      277\n",
       "x1      414\n",
       "y1      277\n",
       "x2      413\n",
       "y2      276\n",
       "x3      412\n",
       "y3      276\n",
       "x4      412\n",
       "y4      275\n",
       "x5      411\n",
       "y5      274\n",
       "x6      410\n",
       "y6      274\n",
       "x7      409\n",
       "y7      273\n",
       "x8      408\n",
       "y8      270\n",
       "x9      407\n",
       "y9      272\n",
       "x10     406\n",
       "y10     270\n",
       "x11     403\n",
       "y11     272\n",
       "x12     402\n",
       "y12     274\n",
       "x13     402\n",
       "y13     268\n",
       "x14     401\n",
       "y14     269\n",
       "       ... \n",
       "x485    409\n",
       "y485    233\n",
       "x486    409\n",
       "y486    233\n",
       "x487    408\n",
       "y487    233\n",
       "x488    407\n",
       "y488    232\n",
       "x489    406\n",
       "y489    233\n",
       "x490    405\n",
       "y490    232\n",
       "x491    404\n",
       "y491    232\n",
       "x492    403\n",
       "y492    233\n",
       "x493    403\n",
       "y493    234\n",
       "x494    404\n",
       "y494    233\n",
       "x495    404\n",
       "y495    233\n",
       "x496    405\n",
       "y496    233\n",
       "x497    404\n",
       "y497    233\n",
       "x498    403\n",
       "y498    232\n",
       "x499    402\n",
       "y499    232\n",
       "Name: 34, Length: 1000, dtype: int64"
      ]
     },
     "execution_count": 90,
     "metadata": {},
     "output_type": "execute_result"
    }
   ],
   "source": [
    "df.loc [34]"
   ]
  },
  {
   "cell_type": "code",
   "execution_count": 91,
   "metadata": {},
   "outputs": [
    {
     "data": {
      "text/plain": [
       "[319,\n",
       " 319,\n",
       " 319,\n",
       " 319,\n",
       " 319,\n",
       " 319,\n",
       " 319,\n",
       " 319,\n",
       " 319,\n",
       " 319,\n",
       " 319,\n",
       " 319,\n",
       " 319,\n",
       " 319,\n",
       " 319,\n",
       " 328,\n",
       " 328,\n",
       " 328,\n",
       " 328,\n",
       " 328,\n",
       " 328,\n",
       " 328,\n",
       " 328,\n",
       " 328,\n",
       " 328,\n",
       " 328,\n",
       " 328,\n",
       " 328,\n",
       " 328,\n",
       " 328,\n",
       " 328,\n",
       " 328,\n",
       " 328,\n",
       " 328,\n",
       " 328,\n",
       " 328,\n",
       " 328,\n",
       " 328,\n",
       " 328,\n",
       " 328,\n",
       " 328,\n",
       " 328,\n",
       " 328,\n",
       " 328,\n",
       " 328,\n",
       " 328,\n",
       " 328,\n",
       " 328,\n",
       " 328,\n",
       " 328,\n",
       " 328,\n",
       " 328,\n",
       " 328,\n",
       " 328,\n",
       " 328,\n",
       " 328,\n",
       " 331,\n",
       " 332,\n",
       " 333,\n",
       " 333,\n",
       " 333,\n",
       " 333,\n",
       " 334,\n",
       " 337,\n",
       " 338,\n",
       " 338,\n",
       " 338,\n",
       " 343,\n",
       " 345,\n",
       " 345,\n",
       " 347,\n",
       " 348,\n",
       " 349,\n",
       " 350,\n",
       " 353,\n",
       " 353,\n",
       " 355,\n",
       " 356,\n",
       " 356,\n",
       " 359,\n",
       " 361,\n",
       " 361,\n",
       " 362,\n",
       " 362,\n",
       " 365,\n",
       " 365,\n",
       " 366,\n",
       " 366,\n",
       " 369,\n",
       " 370,\n",
       " 370,\n",
       " 370,\n",
       " 371,\n",
       " 371,\n",
       " 373,\n",
       " 373,\n",
       " 373,\n",
       " 374,\n",
       " 374,\n",
       " 374,\n",
       " 374,\n",
       " 374,\n",
       " 374,\n",
       " 374,\n",
       " 375,\n",
       " 375,\n",
       " 375,\n",
       " 375,\n",
       " 375,\n",
       " 378,\n",
       " 379,\n",
       " 380,\n",
       " 380,\n",
       " 380,\n",
       " 381,\n",
       " 381,\n",
       " 381,\n",
       " 381,\n",
       " 381,\n",
       " 381,\n",
       " 381,\n",
       " 381,\n",
       " 381,\n",
       " 381,\n",
       " 381,\n",
       " 382,\n",
       " 382,\n",
       " 382,\n",
       " 382,\n",
       " 382,\n",
       " 382,\n",
       " 382,\n",
       " 382,\n",
       " 382,\n",
       " 382,\n",
       " 382,\n",
       " 382,\n",
       " 382,\n",
       " 382,\n",
       " 382,\n",
       " 383,\n",
       " 383,\n",
       " 383,\n",
       " 383,\n",
       " 383,\n",
       " 383,\n",
       " 383,\n",
       " 383,\n",
       " 383,\n",
       " 383,\n",
       " 383,\n",
       " 383,\n",
       " 383,\n",
       " 383,\n",
       " 383,\n",
       " 383,\n",
       " 383,\n",
       " 383,\n",
       " 383,\n",
       " 384,\n",
       " 384,\n",
       " 384,\n",
       " 384,\n",
       " 384,\n",
       " 384,\n",
       " 384,\n",
       " 384,\n",
       " 384,\n",
       " 384,\n",
       " 384,\n",
       " 385,\n",
       " 385,\n",
       " 385,\n",
       " 385,\n",
       " 385,\n",
       " 385,\n",
       " 385,\n",
       " 385,\n",
       " 385,\n",
       " 385,\n",
       " 385,\n",
       " 385,\n",
       " 385,\n",
       " 385,\n",
       " 385,\n",
       " 385,\n",
       " 385,\n",
       " 385,\n",
       " 385,\n",
       " 386,\n",
       " 386,\n",
       " 386,\n",
       " 386,\n",
       " 386,\n",
       " 386,\n",
       " 386,\n",
       " 386,\n",
       " 386,\n",
       " 387,\n",
       " 388]"
      ]
     },
     "execution_count": 91,
     "metadata": {},
     "output_type": "execute_result"
    }
   ],
   "source": [
    "ntx"
   ]
  },
  {
   "cell_type": "code",
   "execution_count": 92,
   "metadata": {},
   "outputs": [
    {
     "data": {
      "text/plain": [
       "459.726951"
      ]
     },
     "execution_count": 92,
     "metadata": {},
     "output_type": "execute_result"
    }
   ],
   "source": [
    "var\n"
   ]
  },
  {
   "cell_type": "code",
   "execution_count": null,
   "metadata": {},
   "outputs": [],
   "source": []
  },
  {
   "cell_type": "code",
   "execution_count": 93,
   "metadata": {},
   "outputs": [],
   "source": [
    "nt = df.values [33].tolist()\n",
    "ntx = nt [0::2]\n",
    "ntx.sort()"
   ]
  },
  {
   "cell_type": "code",
   "execution_count": 94,
   "metadata": {},
   "outputs": [],
   "source": [
    "from scipy.stats import norm"
   ]
  },
  {
   "cell_type": "code",
   "execution_count": 95,
   "metadata": {},
   "outputs": [
    {
     "data": {
      "text/plain": [
       "[<matplotlib.lines.Line2D at 0x7f1a94b6cc90>]"
      ]
     },
     "execution_count": 95,
     "metadata": {},
     "output_type": "execute_result"
    },
    {
     "data": {
      "image/png": "[encoded data removed]",
      "text/plain": [
       "<Figure size 432x288 with 1 Axes>"
      ]
     },
     "metadata": {
      "needs_background": "light"
     },
     "output_type": "display_data"
    }
   ],
   "source": [
    "mean = np.mean (ntx)\n",
    "sd = np.std (ntx)\n",
    "\n",
    "plt.plot (ntx, norm.pdf (ntx, mean, sd))"
   ]
  },
  {
   "cell_type": "code",
   "execution_count": null,
   "metadata": {},
   "outputs": [],
   "source": []
  },
  {
   "cell_type": "code",
   "execution_count": null,
   "metadata": {},
   "outputs": [],
   "source": []
  },
  {
   "cell_type": "code",
   "execution_count": null,
   "metadata": {},
   "outputs": [],
   "source": []
  },
  {
   "cell_type": "code",
   "execution_count": null,
   "metadata": {},
   "outputs": [],
   "source": [
    "plot"
   ]
  },
  {
   "cell_type": "code",
   "execution_count": null,
   "metadata": {},
   "outputs": [],
   "source": [
    "import matplotlib.pyplot as plt"
   ]
  },
  {
   "cell_type": "code",
   "execution_count": null,
   "metadata": {},
   "outputs": [],
   "source": [
    "import pandas as pd"
   ]
  },
  {
   "cell_type": "code",
   "execution_count": null,
   "metadata": {},
   "outputs": [],
   "source": [
    "df = pd.DataFrame(l)"
   ]
  },
  {
   "cell_type": "code",
   "execution_count": null,
   "metadata": {},
   "outputs": [],
   "source": [
    "df.columns = ['x','y']"
   ]
  },
  {
   "cell_type": "code",
   "execution_count": null,
   "metadata": {},
   "outputs": [],
   "source": [
    "plt.plot(df['x'],df['y'])"
   ]
  },
  {
   "cell_type": "code",
   "execution_count": null,
   "metadata": {},
   "outputs": [],
   "source": [
    "plt.scatter(df['x'],df['y'])\n",
    "plt.plot(df['x'],df['y'])"
   ]
  },
  {
   "cell_type": "code",
   "execution_count": null,
   "metadata": {},
   "outputs": [],
   "source": [
    "l"
   ]
  },
  {
   "cell_type": "code",
   "execution_count": null,
   "metadata": {},
   "outputs": [],
   "source": [
    "l"
   ]
  },
  {
   "cell_type": "code",
   "execution_count": null,
   "metadata": {},
   "outputs": [],
   "source": [
    "df"
   ]
  },
  {
   "cell_type": "code",
   "execution_count": null,
   "metadata": {},
   "outputs": [],
   "source": [
    "df"
   ]
  },
  {
   "cell_type": "code",
   "execution_count": null,
   "metadata": {},
   "outputs": [],
   "source": [
    "df"
   ]
  },
  {
   "cell_type": "code",
   "execution_count": null,
   "metadata": {},
   "outputs": [],
   "source": [
    "df"
   ]
  },
  {
   "cell_type": "code",
   "execution_count": null,
   "metadata": {},
   "outputs": [],
   "source": []
  },
  {
   "cell_type": "code",
   "execution_count": null,
   "metadata": {},
   "outputs": [],
   "source": []
  }
 ],
 "metadata": {
  "kernelspec": {
   "display_name": "Python 3",
   "language": "python",
   "name": "python3"
  },
  "language_info": {
   "codemirror_mode": {
    "name": "ipython",
    "version": 3
   },
   "file_extension": ".py",
   "mimetype": "text/x-python",
   "name": "python",
   "nbconvert_exporter": "python",
   "pygments_lexer": "ipython3",
   "version": "3.7.5"
  }
 },
 "nbformat": 4,
 "nbformat_minor": 2
}
