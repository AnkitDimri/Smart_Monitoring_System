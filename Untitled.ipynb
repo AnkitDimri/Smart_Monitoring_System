{
 "cells": [
  {
   "cell_type": "code",
   "execution_count": 1,
   "metadata": {},
   "outputs": [],
   "source": [
    "import cv2\n",
    "import numpy as np\n",
    "import dlib\n",
    "import matplotlib.pyplot as plt\n",
    "import pandas as pd\n",
    "df = pd.DataFrame()\n",
    "cap = cv2.VideoCapture(0)\n",
    "# l=[]\n",
    "detector = dlib.get_frontal_face_detector()\n",
    "predictor = dlib.shape_predictor(\"shape_predictor_68_face_landmarks.dat\")\n",
    "# _, frame = cap.read()\n",
    "# gray = cv2.cvtColor(frame, cv2.COLOR_BGR2GRAY)\n",
    "\n",
    "# faces = detector(gray)\n",
    "\n",
    "# for face in faces:\n",
    "#     x1 = face.left()\n",
    "#     y1 = face.top()\n",
    "#     x2 = face.right()\n",
    "#     y2 = face.bottom()\n",
    "#     cv2.rectangle(frame, (x1, y1), (x2, y2), (0, 255, 0), 3)\n",
    "    \n",
    "#     landmarks = predictor(gray, face)\n",
    "#     for n in range(0,68):\n",
    "#         x = landmarks.part(n).x\n",
    "#         y = landmarks.part(n).y\n",
    "#         l.append([x,y])\n",
    "#         print (x,y)\n",
    "        #mylist = [1,2,3]\n"
   ]
  },
  {
   "cell_type": "code",
   "execution_count": 2,
   "metadata": {},
   "outputs": [],
   "source": [
    "for i in range(100):\n",
    "    _, frame = cap.read()\n",
    "    gray = cv2.cvtColor(frame, cv2.COLOR_BGR2GRAY)\n",
    "\n",
    "    faces = detector(gray)\n",
    "    for face in faces:\n",
    "        x1 = face.left()\n",
    "        y1 = face.top()\n",
    "        x2 = face.right()\n",
    "        y2 = face.bottom()\n",
    "        cv2.rectangle(frame, (x1, y1), (x2, y2), (0, 255, 0), 3)\n",
    "\n",
    "        landmarks = predictor(gray, face)\n",
    "        xc = []\n",
    "        yc = []\n",
    "        for n in range(0, 68):\n",
    "            x = landmarks.part(n).x\n",
    "            y = landmarks.part(n).y\n",
    "            xc.append(x)\n",
    "            yc.append(y)\n",
    "            cv2.circle(frame, (x, y), 4, (255, 0, 0), -1)\n",
    "            \n",
    "            #diff = \n",
    "            #cv2.line(frame,(l[n][0],l[n][1]),(x,y), (0,0,255), 4)\n",
    "    \n",
    "    df['x'+str(i)] = xc\n",
    "    df['y'+str(i)] = yc\n",
    "    \n",
    "    cv2.imshow(\"Frame\", frame)\n",
    "    #plt.plot(l)\n",
    "    \n",
    "\n",
    "    key = cv2.waitKey(1)\n",
    "    if key == 27:\n",
    "        break\n",
    "        \n",
    "cap.release ()\n",
    "cv2.destroyAllWindows ()"
   ]
  },
  {
   "cell_type": "code",
   "execution_count": 29,
   "metadata": {},
   "outputs": [
    {
     "data": {
      "text/plain": [
       "x0     425\n",
       "y0     289\n",
       "x1     424\n",
       "y1     289\n",
       "x2     424\n",
       "y2     302\n",
       "x3     422\n",
       "y3     297\n",
       "x4     421\n",
       "y4     293\n",
       "x5     416\n",
       "y5     288\n",
       "x6     411\n",
       "y6     287\n",
       "x7     405\n",
       "y7     286\n",
       "x8     397\n",
       "y8     284\n",
       "x9     385\n",
       "y9     283\n",
       "x10    369\n",
       "y10    281\n",
       "x11    357\n",
       "y11    279\n",
       "x12    347\n",
       "y12    277\n",
       "x13    343\n",
       "y13    277\n",
       "x14    341\n",
       "y14    275\n",
       "      ... \n",
       "x85    366\n",
       "y85    274\n",
       "x86    360\n",
       "y86    273\n",
       "x87    356\n",
       "y87    273\n",
       "x88    354\n",
       "y88    272\n",
       "x89    354\n",
       "y89    272\n",
       "x90    356\n",
       "y90    272\n",
       "x91    359\n",
       "y91    272\n",
       "x92    360\n",
       "y92    271\n",
       "x93    364\n",
       "y93    271\n",
       "x94    369\n",
       "y94    271\n",
       "x95    377\n",
       "y95    272\n",
       "x96    387\n",
       "y96    273\n",
       "x97    400\n",
       "y97    272\n",
       "x98    413\n",
       "y98    273\n",
       "x99    428\n",
       "y99    272\n",
       "Name: 34, Length: 200, dtype: int64"
      ]
     },
     "execution_count": 29,
     "metadata": {},
     "output_type": "execute_result"
    }
   ],
   "source": [
    "df.loc [34]"
   ]
  },
  {
   "cell_type": "code",
   "execution_count": 30,
   "metadata": {},
   "outputs": [],
   "source": [
    "nt = df.values [34].tolist()"
   ]
  },
  {
   "cell_type": "code",
   "execution_count": null,
   "metadata": {},
   "outputs": [],
   "source": []
  },
  {
   "cell_type": "code",
   "execution_count": null,
   "metadata": {},
   "outputs": [],
   "source": []
  },
  {
   "cell_type": "code",
   "execution_count": null,
   "metadata": {},
   "outputs": [],
   "source": []
  },
  {
   "cell_type": "code",
   "execution_count": null,
   "metadata": {},
   "outputs": [],
   "source": []
  },
  {
   "cell_type": "code",
   "execution_count": null,
   "metadata": {},
   "outputs": [],
   "source": [
    "plot"
   ]
  },
  {
   "cell_type": "code",
   "execution_count": null,
   "metadata": {},
   "outputs": [],
   "source": [
    "import matplotlib.pyplot as plt"
   ]
  },
  {
   "cell_type": "code",
   "execution_count": null,
   "metadata": {},
   "outputs": [],
   "source": [
    "import pandas as pd"
   ]
  },
  {
   "cell_type": "code",
   "execution_count": null,
   "metadata": {},
   "outputs": [],
   "source": [
    "df = pd.DataFrame(l)"
   ]
  },
  {
   "cell_type": "code",
   "execution_count": null,
   "metadata": {},
   "outputs": [],
   "source": [
    "df.columns = ['x','y']"
   ]
  },
  {
   "cell_type": "code",
   "execution_count": null,
   "metadata": {},
   "outputs": [],
   "source": [
    "plt.plot(df['x'],df['y'])"
   ]
  },
  {
   "cell_type": "code",
   "execution_count": null,
   "metadata": {},
   "outputs": [],
   "source": [
    "plt.scatter(df['x'],df['y'])\n",
    "plt.plot(df['x'],df['y'])"
   ]
  },
  {
   "cell_type": "code",
   "execution_count": null,
   "metadata": {},
   "outputs": [],
   "source": [
    "l"
   ]
  },
  {
   "cell_type": "code",
   "execution_count": null,
   "metadata": {},
   "outputs": [],
   "source": [
    "l"
   ]
  },
  {
   "cell_type": "code",
   "execution_count": null,
   "metadata": {},
   "outputs": [],
   "source": [
    "df"
   ]
  },
  {
   "cell_type": "code",
   "execution_count": null,
   "metadata": {},
   "outputs": [],
   "source": [
    "df"
   ]
  },
  {
   "cell_type": "code",
   "execution_count": null,
   "metadata": {},
   "outputs": [],
   "source": [
    "df"
   ]
  },
  {
   "cell_type": "code",
   "execution_count": null,
   "metadata": {},
   "outputs": [],
   "source": [
    "df"
   ]
  },
  {
   "cell_type": "code",
   "execution_count": null,
   "metadata": {},
   "outputs": [],
   "source": []
  },
  {
   "cell_type": "code",
   "execution_count": null,
   "metadata": {},
   "outputs": [],
   "source": []
  }
 ],
 "metadata": {
  "kernelspec": {
   "display_name": "Python 3",
   "language": "python",
   "name": "python3"
  },
  "language_info": {
   "codemirror_mode": {
    "name": "ipython",
    "version": 3
   },
   "file_extension": ".py",
   "mimetype": "text/x-python",
   "name": "python",
   "nbconvert_exporter": "python",
   "pygments_lexer": "ipython3",
   "version": "3.7.5"
  }
 },
 "nbformat": 4,
 "nbformat_minor": 2
}
