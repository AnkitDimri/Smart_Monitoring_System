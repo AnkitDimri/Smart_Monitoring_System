{
 "cells": [
  {
   "cell_type": "code",
   "execution_count": 1,
   "metadata": {},
   "outputs": [],
   "source": [
    "import cv2\n",
    "import numpy as np\n",
    "import dlib\n",
    "import matplotlib.pyplot as plt\n",
    "import pandas as pd\n",
    "df = pd.DataFrame()\n",
    "cap = cv2.VideoCapture(0)\n",
    "# l=[]\n",
    "detector = dlib.get_frontal_face_detector()\n",
    "predictor = dlib.shape_predictor(\"shape_predictor_68_face_landmarks.dat\")\n",
    "# _, frame = cap.read()\n",
    "# gray = cv2.cvtColor(frame, cv2.COLOR_BGR2GRAY)\n",
    "\n",
    "# faces = detector(gray)\n",
    "# for face in faces:\n",
    "#     x1 = face.left()\n",
    "#     y1 = face.top()\n",
    "#     x2 = face.right()\n",
    "#     y2 = face.bottom()\n",
    "#     cv2.rectangle(frame, (x1, y1), (x2, y2), (0, 255, 0), 3)\n",
    "    \n",
    "#     landmarks = predictor(gray, face)\n",
    "#     for n in range(0,68):\n",
    "#         x = landmarks.part(n).x\n",
    "#         y = landmarks.part(n).y\n",
    "#         l.append([x,y])\n",
    "#         print (x,y)\n",
    "        #mylist = [1,2,3]\n"
   ]
  },
  {
   "cell_type": "code",
   "execution_count": 2,
   "metadata": {},
   "outputs": [],
   "source": [
    "for i in range(100):\n",
    "    _, frame = cap.read()\n",
    "    gray = cv2.cvtColor(frame, cv2.COLOR_BGR2GRAY)\n",
    "\n",
    "    faces = detector(gray)\n",
    "    for face in faces:\n",
    "        x1 = face.left()\n",
    "        y1 = face.top()\n",
    "        x2 = face.right()\n",
    "        y2 = face.bottom()\n",
    "        cv2.rectangle(frame, (x1, y1), (x2, y2), (0, 255, 0), 3)\n",
    "\n",
    "        landmarks = predictor(gray, face)\n",
    "        xc = []\n",
    "        yc = []\n",
    "        for n in range(0, 68):\n",
    "            x = landmarks.part(n).x\n",
    "            y = landmarks.part(n).y\n",
    "            xc.append(x)\n",
    "            yc.append(y)\n",
    "            cv2.circle(frame, (x, y), 4, (255, 0, 0), -1)\n",
    "            \n",
    "            #diff = \n",
    "            #cv2.line(frame,(l[n][0],l[n][1]),(x,y), (0,0,255), 4)\n",
    "    \n",
    "    df['x'+str(i)] = xc\n",
    "    df['y'+str(i)] = yc\n",
    "    \n",
    "    cv2.imshow(\"Frame\", frame)\n",
    "    #plt.plot(l)\n",
    "    \n",
    "\n",
    "    key = cv2.waitKey(1)\n",
    "    if key == 27:\n",
    "        break"
   ]
  },
  {
   "cell_type": "code",
   "execution_count": null,
   "metadata": {},
   "outputs": [],
   "source": []
  },
  {
   "cell_type": "code",
   "execution_count": 10,
   "metadata": {},
   "outputs": [
    {
     "data": {
      "text/plain": [
       "x0     379\n",
       "y0     203\n",
       "x1     377\n",
       "y1     202\n",
       "x2     375\n",
       "      ... \n",
       "y97    201\n",
       "x98    398\n",
       "y98    203\n",
       "x99    416\n",
       "y99    202\n",
       "Name: 34, Length: 200, dtype: int64"
      ]
     },
     "execution_count": 10,
     "metadata": {},
     "output_type": "execute_result"
    }
   ],
   "source": [
    "df.loc [34,]"
   ]
  },
  {
   "cell_type": "code",
   "execution_count": 11,
   "metadata": {},
   "outputs": [],
   "source": [
    "val = [df.loc [34,]]"
   ]
  },
  {
   "cell_type": "code",
   "execution_count": 12,
   "metadata": {},
   "outputs": [
    {
     "data": {
      "text/plain": [
       "[x0     379\n",
       " y0     203\n",
       " x1     377\n",
       " y1     202\n",
       " x2     375\n",
       "       ... \n",
       " y97    201\n",
       " x98    398\n",
       " y98    203\n",
       " x99    416\n",
       " y99    202\n",
       " Name: 34, Length: 200, dtype: int64]"
      ]
     },
     "execution_count": 12,
     "metadata": {},
     "output_type": "execute_result"
    }
   ],
   "source": [
    "val"
   ]
  },
  {
   "cell_type": "code",
   "execution_count": 14,
   "metadata": {},
   "outputs": [
    {
     "ename": "IndexError",
     "evalue": "list index out of range",
     "output_type": "error",
     "traceback": [
      "\u001b[0;31m---------------------------------------------------------------------------\u001b[0m",
      "\u001b[0;31mIndexError\u001b[0m                                Traceback (most recent call last)",
      "\u001b[0;32m<ipython-input-14-762c90b41623>\u001b[0m in \u001b[0;36m<module>\u001b[0;34m\u001b[0m\n\u001b[0;32m----> 1\u001b[0;31m \u001b[0mval\u001b[0m \u001b[0;34m[\u001b[0m\u001b[0;36m1\u001b[0m\u001b[0;34m]\u001b[0m\u001b[0;34m\u001b[0m\u001b[0;34m\u001b[0m\u001b[0m\n\u001b[0m",
      "\u001b[0;31mIndexError\u001b[0m: list index out of range"
     ]
    }
   ],
   "source": [
    "val []"
   ]
  },
  {
   "cell_type": "code",
   "execution_count": null,
   "metadata": {},
   "outputs": [],
   "source": []
  },
  {
   "cell_type": "code",
   "execution_count": null,
   "metadata": {},
   "outputs": [],
   "source": []
  },
  {
   "cell_type": "code",
   "execution_count": null,
   "metadata": {},
   "outputs": [],
   "source": []
  },
  {
   "cell_type": "code",
   "execution_count": null,
   "metadata": {},
   "outputs": [],
   "source": []
  },
  {
   "cell_type": "code",
   "execution_count": 3,
   "metadata": {},
   "outputs": [
    {
     "data": {
      "text/plain": [
       "[<matplotlib.lines.Line2D at 0x7efd18234278>,\n",
       " <matplotlib.lines.Line2D at 0x7efd18234470>]"
      ]
     },
     "execution_count": 3,
     "metadata": {},
     "output_type": "execute_result"
    },
    {
     "data": {
      "image/png": "[encoded data removed]",
      "text/plain": [
       "<Figure size 432x288 with 1 Axes>"
      ]
     },
     "metadata": {
      "needs_background": "light"
     },
     "output_type": "display_data"
    }
   ],
   "source": [
    "plot"
   ]
  },
  {
   "cell_type": "code",
   "execution_count": 2,
   "metadata": {},
   "outputs": [],
   "source": [
    "import matplotlib.pyplot as plt"
   ]
  },
  {
   "cell_type": "code",
   "execution_count": 5,
   "metadata": {},
   "outputs": [],
   "source": [
    "import pandas as pd"
   ]
  },
  {
   "cell_type": "code",
   "execution_count": 7,
   "metadata": {},
   "outputs": [],
   "source": [
    "df = pd.DataFrame(l)"
   ]
  },
  {
   "cell_type": "code",
   "execution_count": 14,
   "metadata": {},
   "outputs": [],
   "source": [
    "df.columns = ['x','y']"
   ]
  },
  {
   "cell_type": "code",
   "execution_count": 17,
   "metadata": {},
   "outputs": [
    {
     "data": {
      "text/plain": [
       "[<matplotlib.lines.Line2D at 0x7efd020424a8>]"
      ]
     },
     "execution_count": 17,
     "metadata": {},
     "output_type": "execute_result"
    },
    {
     "data": {
      "image/png": "[encoded data removed]",
      "text/plain": [
       "<Figure size 432x288 with 1 Axes>"
      ]
     },
     "metadata": {
      "needs_background": "light"
     },
     "output_type": "display_data"
    }
   ],
   "source": [
    "plt.plot(df['x'],df['y'])"
   ]
  },
  {
   "cell_type": "code",
   "execution_count": 19,
   "metadata": {},
   "outputs": [
    {
     "data": {
      "text/plain": [
       "[<matplotlib.lines.Line2D at 0x7efd01f78828>]"
      ]
     },
     "execution_count": 19,
     "metadata": {},
     "output_type": "execute_result"
    },
    {
     "data": {
      "image/png": "[encoded data removed]",
      "text/plain": [
       "<Figure size 432x288 with 1 Axes>"
      ]
     },
     "metadata": {
      "needs_background": "light"
     },
     "output_type": "display_data"
    }
   ],
   "source": [
    "plt.scatter(df['x'],df['y'])\n",
    "plt.plot(df['x'],df['y'])"
   ]
  },
  {
   "cell_type": "code",
   "execution_count": 3,
   "metadata": {},
   "outputs": [
    {
     "data": {
      "text/plain": [
       "[]"
      ]
     },
     "execution_count": 3,
     "metadata": {},
     "output_type": "execute_result"
    }
   ],
   "source": [
    "l"
   ]
  },
  {
   "cell_type": "code",
   "execution_count": null,
   "metadata": {},
   "outputs": [],
   "source": [
    "l"
   ]
  },
  {
   "cell_type": "code",
   "execution_count": 4,
   "metadata": {},
   "outputs": [
    {
     "ename": "NameError",
     "evalue": "name 'df' is not defined",
     "output_type": "error",
     "traceback": [
      "\u001b[0;31m---------------------------------------------------------------------------\u001b[0m",
      "\u001b[0;31mNameError\u001b[0m                                 Traceback (most recent call last)",
      "\u001b[0;32m<ipython-input-4-00cf07b74dcd>\u001b[0m in \u001b[0;36m<module>\u001b[0;34m\u001b[0m\n\u001b[0;32m----> 1\u001b[0;31m \u001b[0mdf\u001b[0m\u001b[0;34m\u001b[0m\u001b[0;34m\u001b[0m\u001b[0m\n\u001b[0m",
      "\u001b[0;31mNameError\u001b[0m: name 'df' is not defined"
     ]
    }
   ],
   "source": [
    "df"
   ]
  },
  {
   "cell_type": "code",
   "execution_count": 2,
   "metadata": {},
   "outputs": [
    {
     "data": {
      "text/html": [
       "<div>\n",
       "<style scoped>\n",
       "    .dataframe tbody tr th:only-of-type {\n",
       "        vertical-align: middle;\n",
       "    }\n",
       "\n",
       "    .dataframe tbody tr th {\n",
       "        vertical-align: top;\n",
       "    }\n",
       "\n",
       "    .dataframe thead th {\n",
       "        text-align: right;\n",
       "    }\n",
       "</style>\n",
       "<table border=\"1\" class=\"dataframe\">\n",
       "  <thead>\n",
       "    <tr style=\"text-align: right;\">\n",
       "      <th></th>\n",
       "    </tr>\n",
       "  </thead>\n",
       "  <tbody>\n",
       "  </tbody>\n",
       "</table>\n",
       "</div>"
      ],
      "text/plain": [
       "Empty DataFrame\n",
       "Columns: []\n",
       "Index: []"
      ]
     },
     "execution_count": 2,
     "metadata": {},
     "output_type": "execute_result"
    }
   ],
   "source": [
    "df"
   ]
  },
  {
   "cell_type": "code",
   "execution_count": 2,
   "metadata": {},
   "outputs": [
    {
     "data": {
      "text/html": [
       "<div>\n",
       "<style scoped>\n",
       "    .dataframe tbody tr th:only-of-type {\n",
       "        vertical-align: middle;\n",
       "    }\n",
       "\n",
       "    .dataframe tbody tr th {\n",
       "        vertical-align: top;\n",
       "    }\n",
       "\n",
       "    .dataframe thead th {\n",
       "        text-align: right;\n",
       "    }\n",
       "</style>\n",
       "<table border=\"1\" class=\"dataframe\">\n",
       "  <thead>\n",
       "    <tr style=\"text-align: right;\">\n",
       "      <th></th>\n",
       "      <th>x</th>\n",
       "      <th>y</th>\n",
       "    </tr>\n",
       "  </thead>\n",
       "  <tbody>\n",
       "    <tr>\n",
       "      <th>0</th>\n",
       "      <td>273</td>\n",
       "      <td>300</td>\n",
       "    </tr>\n",
       "    <tr>\n",
       "      <th>1</th>\n",
       "      <td>276</td>\n",
       "      <td>319</td>\n",
       "    </tr>\n",
       "    <tr>\n",
       "      <th>2</th>\n",
       "      <td>280</td>\n",
       "      <td>338</td>\n",
       "    </tr>\n",
       "    <tr>\n",
       "      <th>3</th>\n",
       "      <td>285</td>\n",
       "      <td>355</td>\n",
       "    </tr>\n",
       "    <tr>\n",
       "      <th>4</th>\n",
       "      <td>292</td>\n",
       "      <td>373</td>\n",
       "    </tr>\n",
       "    <tr>\n",
       "      <th>...</th>\n",
       "      <td>...</td>\n",
       "      <td>...</td>\n",
       "    </tr>\n",
       "    <tr>\n",
       "      <th>63</th>\n",
       "      <td>365</td>\n",
       "      <td>365</td>\n",
       "    </tr>\n",
       "    <tr>\n",
       "      <th>64</th>\n",
       "      <td>380</td>\n",
       "      <td>365</td>\n",
       "    </tr>\n",
       "    <tr>\n",
       "      <th>65</th>\n",
       "      <td>365</td>\n",
       "      <td>366</td>\n",
       "    </tr>\n",
       "    <tr>\n",
       "      <th>66</th>\n",
       "      <td>358</td>\n",
       "      <td>366</td>\n",
       "    </tr>\n",
       "    <tr>\n",
       "      <th>67</th>\n",
       "      <td>351</td>\n",
       "      <td>365</td>\n",
       "    </tr>\n",
       "  </tbody>\n",
       "</table>\n",
       "<p>68 rows × 2 columns</p>\n",
       "</div>"
      ],
      "text/plain": [
       "      x    y\n",
       "0   273  300\n",
       "1   276  319\n",
       "2   280  338\n",
       "3   285  355\n",
       "4   292  373\n",
       "..  ...  ...\n",
       "63  365  365\n",
       "64  380  365\n",
       "65  365  366\n",
       "66  358  366\n",
       "67  351  365\n",
       "\n",
       "[68 rows x 2 columns]"
      ]
     },
     "execution_count": 2,
     "metadata": {},
     "output_type": "execute_result"
    }
   ],
   "source": [
    "df"
   ]
  },
  {
   "cell_type": "code",
   "execution_count": 1,
   "metadata": {},
   "outputs": [
    {
     "ename": "NameError",
     "evalue": "name 'df' is not defined",
     "output_type": "error",
     "traceback": [
      "\u001b[0;31m---------------------------------------------------------------------------\u001b[0m",
      "\u001b[0;31mNameError\u001b[0m                                 Traceback (most recent call last)",
      "\u001b[0;32m<ipython-input-1-00cf07b74dcd>\u001b[0m in \u001b[0;36m<module>\u001b[0;34m\u001b[0m\n\u001b[0;32m----> 1\u001b[0;31m \u001b[0mdf\u001b[0m\u001b[0;34m\u001b[0m\u001b[0;34m\u001b[0m\u001b[0m\n\u001b[0m",
      "\u001b[0;31mNameError\u001b[0m: name 'df' is not defined"
     ]
    }
   ],
   "source": [
    "df"
   ]
  },
  {
   "cell_type": "code",
   "execution_count": 7,
   "metadata": {},
   "outputs": [
    {
     "data": {
      "text/html": [
       "<div>\n",
       "<style scoped>\n",
       "    .dataframe tbody tr th:only-of-type {\n",
       "        vertical-align: middle;\n",
       "    }\n",
       "\n",
       "    .dataframe tbody tr th {\n",
       "        vertical-align: top;\n",
       "    }\n",
       "\n",
       "    .dataframe thead th {\n",
       "        text-align: right;\n",
       "    }\n",
       "</style>\n",
       "<table border=\"1\" class=\"dataframe\">\n",
       "  <thead>\n",
       "    <tr style=\"text-align: right;\">\n",
       "      <th></th>\n",
       "      <th>x0</th>\n",
       "      <th>y0</th>\n",
       "      <th>x1</th>\n",
       "      <th>y1</th>\n",
       "      <th>x2</th>\n",
       "      <th>y2</th>\n",
       "      <th>x3</th>\n",
       "      <th>y3</th>\n",
       "      <th>x4</th>\n",
       "      <th>y4</th>\n",
       "      <th>...</th>\n",
       "      <th>x20</th>\n",
       "      <th>y20</th>\n",
       "      <th>x21</th>\n",
       "      <th>y21</th>\n",
       "      <th>x22</th>\n",
       "      <th>y22</th>\n",
       "      <th>x23</th>\n",
       "      <th>y23</th>\n",
       "      <th>x24</th>\n",
       "      <th>y24</th>\n",
       "    </tr>\n",
       "  </thead>\n",
       "  <tbody>\n",
       "    <tr>\n",
       "      <th>0</th>\n",
       "      <td>255</td>\n",
       "      <td>263</td>\n",
       "      <td>256</td>\n",
       "      <td>258</td>\n",
       "      <td>256</td>\n",
       "      <td>258</td>\n",
       "      <td>256</td>\n",
       "      <td>258</td>\n",
       "      <td>256</td>\n",
       "      <td>258</td>\n",
       "      <td>...</td>\n",
       "      <td>256</td>\n",
       "      <td>258</td>\n",
       "      <td>256</td>\n",
       "      <td>258</td>\n",
       "      <td>256</td>\n",
       "      <td>258</td>\n",
       "      <td>256</td>\n",
       "      <td>258</td>\n",
       "      <td>256</td>\n",
       "      <td>258</td>\n",
       "    </tr>\n",
       "    <tr>\n",
       "      <th>1</th>\n",
       "      <td>257</td>\n",
       "      <td>294</td>\n",
       "      <td>257</td>\n",
       "      <td>290</td>\n",
       "      <td>257</td>\n",
       "      <td>290</td>\n",
       "      <td>257</td>\n",
       "      <td>290</td>\n",
       "      <td>257</td>\n",
       "      <td>290</td>\n",
       "      <td>...</td>\n",
       "      <td>257</td>\n",
       "      <td>290</td>\n",
       "      <td>257</td>\n",
       "      <td>290</td>\n",
       "      <td>257</td>\n",
       "      <td>290</td>\n",
       "      <td>257</td>\n",
       "      <td>290</td>\n",
       "      <td>257</td>\n",
       "      <td>290</td>\n",
       "    </tr>\n",
       "    <tr>\n",
       "      <th>2</th>\n",
       "      <td>261</td>\n",
       "      <td>325</td>\n",
       "      <td>261</td>\n",
       "      <td>320</td>\n",
       "      <td>261</td>\n",
       "      <td>320</td>\n",
       "      <td>261</td>\n",
       "      <td>320</td>\n",
       "      <td>261</td>\n",
       "      <td>320</td>\n",
       "      <td>...</td>\n",
       "      <td>261</td>\n",
       "      <td>320</td>\n",
       "      <td>261</td>\n",
       "      <td>320</td>\n",
       "      <td>261</td>\n",
       "      <td>320</td>\n",
       "      <td>261</td>\n",
       "      <td>320</td>\n",
       "      <td>261</td>\n",
       "      <td>320</td>\n",
       "    </tr>\n",
       "    <tr>\n",
       "      <th>3</th>\n",
       "      <td>268</td>\n",
       "      <td>353</td>\n",
       "      <td>268</td>\n",
       "      <td>349</td>\n",
       "      <td>268</td>\n",
       "      <td>349</td>\n",
       "      <td>268</td>\n",
       "      <td>349</td>\n",
       "      <td>268</td>\n",
       "      <td>349</td>\n",
       "      <td>...</td>\n",
       "      <td>268</td>\n",
       "      <td>349</td>\n",
       "      <td>268</td>\n",
       "      <td>349</td>\n",
       "      <td>268</td>\n",
       "      <td>349</td>\n",
       "      <td>268</td>\n",
       "      <td>349</td>\n",
       "      <td>268</td>\n",
       "      <td>349</td>\n",
       "    </tr>\n",
       "    <tr>\n",
       "      <th>4</th>\n",
       "      <td>280</td>\n",
       "      <td>379</td>\n",
       "      <td>281</td>\n",
       "      <td>374</td>\n",
       "      <td>281</td>\n",
       "      <td>374</td>\n",
       "      <td>281</td>\n",
       "      <td>374</td>\n",
       "      <td>281</td>\n",
       "      <td>374</td>\n",
       "      <td>...</td>\n",
       "      <td>281</td>\n",
       "      <td>374</td>\n",
       "      <td>281</td>\n",
       "      <td>374</td>\n",
       "      <td>281</td>\n",
       "      <td>374</td>\n",
       "      <td>281</td>\n",
       "      <td>374</td>\n",
       "      <td>281</td>\n",
       "      <td>374</td>\n",
       "    </tr>\n",
       "    <tr>\n",
       "      <th>...</th>\n",
       "      <td>...</td>\n",
       "      <td>...</td>\n",
       "      <td>...</td>\n",
       "      <td>...</td>\n",
       "      <td>...</td>\n",
       "      <td>...</td>\n",
       "      <td>...</td>\n",
       "      <td>...</td>\n",
       "      <td>...</td>\n",
       "      <td>...</td>\n",
       "      <td>...</td>\n",
       "      <td>...</td>\n",
       "      <td>...</td>\n",
       "      <td>...</td>\n",
       "      <td>...</td>\n",
       "      <td>...</td>\n",
       "      <td>...</td>\n",
       "      <td>...</td>\n",
       "      <td>...</td>\n",
       "      <td>...</td>\n",
       "      <td>...</td>\n",
       "    </tr>\n",
       "    <tr>\n",
       "      <th>63</th>\n",
       "      <td>392</td>\n",
       "      <td>378</td>\n",
       "      <td>393</td>\n",
       "      <td>373</td>\n",
       "      <td>393</td>\n",
       "      <td>373</td>\n",
       "      <td>393</td>\n",
       "      <td>373</td>\n",
       "      <td>393</td>\n",
       "      <td>373</td>\n",
       "      <td>...</td>\n",
       "      <td>393</td>\n",
       "      <td>373</td>\n",
       "      <td>393</td>\n",
       "      <td>373</td>\n",
       "      <td>393</td>\n",
       "      <td>373</td>\n",
       "      <td>393</td>\n",
       "      <td>373</td>\n",
       "      <td>393</td>\n",
       "      <td>373</td>\n",
       "    </tr>\n",
       "    <tr>\n",
       "      <th>64</th>\n",
       "      <td>412</td>\n",
       "      <td>376</td>\n",
       "      <td>414</td>\n",
       "      <td>369</td>\n",
       "      <td>414</td>\n",
       "      <td>369</td>\n",
       "      <td>414</td>\n",
       "      <td>369</td>\n",
       "      <td>414</td>\n",
       "      <td>369</td>\n",
       "      <td>...</td>\n",
       "      <td>414</td>\n",
       "      <td>369</td>\n",
       "      <td>414</td>\n",
       "      <td>369</td>\n",
       "      <td>414</td>\n",
       "      <td>369</td>\n",
       "      <td>414</td>\n",
       "      <td>369</td>\n",
       "      <td>414</td>\n",
       "      <td>369</td>\n",
       "    </tr>\n",
       "    <tr>\n",
       "      <th>65</th>\n",
       "      <td>392</td>\n",
       "      <td>378</td>\n",
       "      <td>393</td>\n",
       "      <td>375</td>\n",
       "      <td>393</td>\n",
       "      <td>375</td>\n",
       "      <td>393</td>\n",
       "      <td>375</td>\n",
       "      <td>393</td>\n",
       "      <td>375</td>\n",
       "      <td>...</td>\n",
       "      <td>393</td>\n",
       "      <td>375</td>\n",
       "      <td>393</td>\n",
       "      <td>375</td>\n",
       "      <td>393</td>\n",
       "      <td>375</td>\n",
       "      <td>393</td>\n",
       "      <td>375</td>\n",
       "      <td>393</td>\n",
       "      <td>375</td>\n",
       "    </tr>\n",
       "    <tr>\n",
       "      <th>66</th>\n",
       "      <td>380</td>\n",
       "      <td>379</td>\n",
       "      <td>381</td>\n",
       "      <td>376</td>\n",
       "      <td>381</td>\n",
       "      <td>376</td>\n",
       "      <td>381</td>\n",
       "      <td>376</td>\n",
       "      <td>381</td>\n",
       "      <td>376</td>\n",
       "      <td>...</td>\n",
       "      <td>381</td>\n",
       "      <td>376</td>\n",
       "      <td>381</td>\n",
       "      <td>376</td>\n",
       "      <td>381</td>\n",
       "      <td>376</td>\n",
       "      <td>381</td>\n",
       "      <td>376</td>\n",
       "      <td>381</td>\n",
       "      <td>376</td>\n",
       "    </tr>\n",
       "    <tr>\n",
       "      <th>67</th>\n",
       "      <td>369</td>\n",
       "      <td>377</td>\n",
       "      <td>370</td>\n",
       "      <td>375</td>\n",
       "      <td>370</td>\n",
       "      <td>375</td>\n",
       "      <td>370</td>\n",
       "      <td>375</td>\n",
       "      <td>370</td>\n",
       "      <td>375</td>\n",
       "      <td>...</td>\n",
       "      <td>370</td>\n",
       "      <td>375</td>\n",
       "      <td>370</td>\n",
       "      <td>375</td>\n",
       "      <td>370</td>\n",
       "      <td>375</td>\n",
       "      <td>370</td>\n",
       "      <td>375</td>\n",
       "      <td>370</td>\n",
       "      <td>375</td>\n",
       "    </tr>\n",
       "  </tbody>\n",
       "</table>\n",
       "<p>68 rows × 50 columns</p>\n",
       "</div>"
      ],
      "text/plain": [
       "     x0   y0   x1   y1   x2   y2   x3   y3   x4   y4  ...  x20  y20  x21  y21  \\\n",
       "0   255  263  256  258  256  258  256  258  256  258  ...  256  258  256  258   \n",
       "1   257  294  257  290  257  290  257  290  257  290  ...  257  290  257  290   \n",
       "2   261  325  261  320  261  320  261  320  261  320  ...  261  320  261  320   \n",
       "3   268  353  268  349  268  349  268  349  268  349  ...  268  349  268  349   \n",
       "4   280  379  281  374  281  374  281  374  281  374  ...  281  374  281  374   \n",
       "..  ...  ...  ...  ...  ...  ...  ...  ...  ...  ...  ...  ...  ...  ...  ...   \n",
       "63  392  378  393  373  393  373  393  373  393  373  ...  393  373  393  373   \n",
       "64  412  376  414  369  414  369  414  369  414  369  ...  414  369  414  369   \n",
       "65  392  378  393  375  393  375  393  375  393  375  ...  393  375  393  375   \n",
       "66  380  379  381  376  381  376  381  376  381  376  ...  381  376  381  376   \n",
       "67  369  377  370  375  370  375  370  375  370  375  ...  370  375  370  375   \n",
       "\n",
       "    x22  y22  x23  y23  x24  y24  \n",
       "0   256  258  256  258  256  258  \n",
       "1   257  290  257  290  257  290  \n",
       "2   261  320  261  320  261  320  \n",
       "3   268  349  268  349  268  349  \n",
       "4   281  374  281  374  281  374  \n",
       "..  ...  ...  ...  ...  ...  ...  \n",
       "63  393  373  393  373  393  373  \n",
       "64  414  369  414  369  414  369  \n",
       "65  393  375  393  375  393  375  \n",
       "66  381  376  381  376  381  376  \n",
       "67  370  375  370  375  370  375  \n",
       "\n",
       "[68 rows x 50 columns]"
      ]
     },
     "execution_count": 7,
     "metadata": {},
     "output_type": "execute_result"
    }
   ],
   "source": []
  },
  {
   "cell_type": "code",
   "execution_count": null,
   "metadata": {},
   "outputs": [],
   "source": []
  }
 ],
 "metadata": {
  "kernelspec": {
   "display_name": "Python 3",
   "language": "python",
   "name": "python3"
  },
  "language_info": {
   "codemirror_mode": {
    "name": "ipython",
    "version": 3
   },
   "file_extension": ".py",
   "mimetype": "text/x-python",
   "name": "python",
   "nbconvert_exporter": "python",
   "pygments_lexer": "ipython3",
   "version": "3.6.8"
  }
 },
 "nbformat": 4,
 "nbformat_minor": 2
}
