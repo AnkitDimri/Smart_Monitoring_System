{
 "cells": [
  {
   "cell_type": "markdown",
   "metadata": {},
   "source": [
    "<h1><center>Student Monitoring System</center></h1>\n"
   ]
  },
  {
   "cell_type": "code",
   "execution_count": 1,
   "metadata": {},
   "outputs": [],
   "source": [
    "# Import libraries\n",
    "import cv2\n",
    "import dlib\n",
    "import numpy as np\n",
    "import matplotlib.pyplot as plt\n",
    "import pandas as pd\n",
    "from scipy.stats import norm"
   ]
  },
  {
   "cell_type": "markdown",
   "metadata": {},
   "source": [
    "### Function to find the distracted student in the dictionary of students present in the class"
   ]
  },
  {
   "cell_type": "code",
   "execution_count": 9,
   "metadata": {},
   "outputs": [],
   "source": [
    "# Find the distraced student based on the data present in the dictionary\n",
    "# Variance for all the student coordinate data is created and put in a list. Then mean and variance of this data is\n",
    "# found, The variances are normalized based on the size of the box. Greater the size of the box neaerer is the \n",
    "# student hence higher variance and vice versa. They are normalized on the basis of box size and the distraced\n",
    "# student is found whose normalized variance is higher than the mean+variance of this data of normalized variances\n",
    "\n",
    "def find_distracted (students):\n",
    "        \n",
    "    var_o_var = [] # To store the data of varinaces\n",
    "    for s in students:\n",
    "        \n",
    "        nt = students [s] ['df'].values [33].tolist()\n",
    "        ntx = nt [0::2]\n",
    "        mean = np.mean (ntx)\n",
    "        sigma = np.std (ntx)\n",
    "        sigmanorm = np.std(ntx)/abs(students [s]['box'][1] - students[s]['box'][0])\n",
    "\n",
    "        var_o_var.append (sigmanorm)\n",
    "        \n",
    "    sigma_s = np.std (var_o_var)\n",
    "    \n",
    "    mean_s = np.mean (var_o_var)\n",
    "    \n",
    "    disturbed = []\n",
    "    #print (\"threshold: \", mean_s + sigma_s)\n",
    "    for i in range (len (var_o_var)):\n",
    "        #print (var_o_var [i])\n",
    "        if var_o_var [i] > mean_s + sigma_s:\n",
    "            disturbed.append ((i+1))\n",
    "            \n",
    "    return disturbed\n",
    "        \n"
   ]
  },
  {
   "cell_type": "markdown",
   "metadata": {},
   "source": [
    "### Function to find the student the face found in the frame belongs to"
   ]
  },
  {
   "cell_type": "code",
   "execution_count": 10,
   "metadata": {},
   "outputs": [],
   "source": [
    "students = {}"
   ]
  },
  {
   "cell_type": "code",
   "execution_count": 11,
   "metadata": {},
   "outputs": [],
   "source": [
    "# Finding the student the face belongs to detected in the current frame\n",
    "# The face is said to belong to some student if the new coordinates of the box have high probablity of being a part\n",
    "# of that student based on the pdf (probablity distribution) formed using the prior data of the coordinates\n",
    "# The face is then said to be the part of a student for whom the probablity is maximum and above the threshold\n",
    "# 0.00000001 \n",
    "# If the probablity does not exceed the threshold the face is said to be a new student and a new student entry is \n",
    "# made in the dictionary of students\n",
    "\n",
    "def find_face (x1,y1,stu):\n",
    "    \n",
    "    maxx = 0.0 # variable\n",
    "    maxy = 0.0 # variable\n",
    "    sdnt = ''\n",
    "    flag = 0 # Threshold satisfaction flag\n",
    "    \n",
    "    for s in stu:\n",
    "        temp1 = norm.pdf (x1, np.mean (stu [s] ['x1']), stu [s]['sd']) # Find probablity for x coordinate\n",
    "        temp2 = norm.pdf (y1 ,np.mean (stu [s] ['y1']), stu [s]['sd']) # Find probablity for y coordinate\n",
    "        if (temp1 > maxx and temp1 > 0.00000001): # Check threshold for x\n",
    "            maxx = temp1\n",
    "            if(temp2 > maxy and temp2 > 0.00000001): # Check threshold for y\n",
    "                maxy = temp2\n",
    "                sdnt = s\n",
    "                flag = 1 # Student found\n",
    "            \n",
    "    if (flag == 0): # No student found so new entry in the dictionary created\n",
    "        stu [len (stu) + 1] = {'x1': [x1],'y1':[y1], 'df':pd.DataFrame (), 'sd': 10}\n",
    "        return (len (stu), stu)\n",
    "    \n",
    "    stu [sdnt] ['x1'].append (x1)\n",
    "    stu [sdnt] ['y1'].append (y1)\n",
    "    return (sdnt, stu)"
   ]
  },
  {
   "cell_type": "markdown",
   "metadata": {},
   "source": [
    "### Main function of the system"
   ]
  },
  {
   "cell_type": "code",
   "execution_count": 31,
   "metadata": {},
   "outputs": [],
   "source": [
    "# Main function which monitors the student\n",
    "\n",
    "def student_monitoring (n):\n",
    "    \n",
    "    df = pd.DataFrame()\n",
    "    students = {} # Dictionary which will store the data of all students detected in the video frames\n",
    "    distracted = [] # Holds the value of current distracted student\n",
    "\n",
    "    cap = cv2.VideoCapture(0) # Start capturing the video\n",
    "    detector = dlib.get_frontal_face_detector() # DLIB library face detector\n",
    "    predictor = dlib.shape_predictor(\"shape_predictor_68_face_landmarks.dat\") # Landmark detetctor\n",
    "\n",
    "    for i in range (n): # Run the system for n number of frames as passed by the user\n",
    "        _, frame = cap.read() # Read one frame\n",
    "        gray = cv2.cvtColor(frame, cv2.COLOR_BGR2GRAY) # Grayscale them\n",
    "\n",
    "        faces = detector(gray) # Detect the faces in the frame using the DLIB face detector\n",
    "\n",
    "        for face in faces: # For all the faces found in the frame\n",
    "\n",
    "            x1 = face.left() # Top left x coordinate of the bounding box\n",
    "            y1 = face.top() # Top left y coordinate of the bounding box\n",
    "            x2 = face.right() # Bottom right x coordinate fo the bounding box\n",
    "            y2 = face.bottom() # Bottom right y coordinate of the bounding box\n",
    "\n",
    "\n",
    "            f, students = find_face(x1, y1, students) # Find the student the given face belongs to\n",
    "            \n",
    "\n",
    "            #print (\"student (f): \", f)\n",
    "            #print (\"distracted: \", distracted)\n",
    "            # If the given student is the distracted student found as per the prior iteration, bound the student \n",
    "            # with blue box\n",
    "            if f in distracted:\n",
    "                cv2.rectangle(frame, (x1, y1), (x2, y2), (0, 0, 255), 3)\n",
    "            else:\n",
    "                cv2.rectangle(frame, (x1, y1), (x2, y2), (255, 0, 0), 3)\n",
    "\n",
    "            # Find the landmarks on the given face    \n",
    "            landmarks = predictor(gray, face)\n",
    "            xc = []\n",
    "            yc = []\n",
    "            for n in range(0, 68):\n",
    "                x = landmarks.part(n).x\n",
    "                y = landmarks.part(n).y\n",
    "                xc.append(x)\n",
    "                yc.append(y)\n",
    "                # Mark the landmarks on the face in the frame\n",
    "                cv2.circle(frame, (x, y), 4, (255, 0, 0), -1)\n",
    "            \n",
    "            index = int (len (students [f] ['df'].columns) / 2)\n",
    "            students [f] ['df'] ['x'+str(index)] = xc\n",
    "            students [f] ['df'] ['y'+str(index)] = yc\n",
    "            students [f] ['box'] = list ((x1, x2))\n",
    "        \n",
    "        \n",
    "        cv2.imshow(\"Frame\", frame)\n",
    "        # Print the number of distinct students detected by the system\n",
    "        #print (len (students))\n",
    "        \n",
    "        # Find the distracted student based on the current data\n",
    "        distracted = find_distracted (students)\n",
    "        \n",
    "\n",
    "        key = cv2.waitKey(1)\n",
    "        if key == 27:\n",
    "            break\n",
    "\n",
    "    cap.release ()\n",
    "    cv2.destroyAllWindows ()\n",
    "    \n",
    "    print (students)\n",
    "    \n",
    "    # plot the distribution of nose points\n",
    "    plot_distributions (students)"
   ]
  },
  {
   "cell_type": "markdown",
   "metadata": {},
   "source": [
    "### Plot the probablity distribution of students woth respect to their x coordinates"
   ]
  },
  {
   "cell_type": "code",
   "execution_count": 32,
   "metadata": {},
   "outputs": [],
   "source": [
    "def plot_distributions (students):\n",
    "\n",
    "    for s in students:\n",
    "\n",
    "        nt = students [s] ['df'].values [33].tolist()\n",
    "        ntx = nt [0::2]\n",
    "        ntx.sort()\n",
    "        mean = np.mean (ntx)\n",
    "        sigma = np.std (ntx)\n",
    "        sigmanorm = np.std(ntx)/abs(students [s]['box'][1] - students[s]['box'][0])\n",
    "        plt.plot (ntx, norm.pdf (ntx, mean, sigma))\n",
    "        #plt.show () # Uncomment the syntax to get individual plots of each student\n",
    "        \n",
    "        # Comment all print statements to just get the plot\n",
    "        #print (s)\n",
    "        #print (ntx)\n",
    "        #print (students [s]['box'][1] - students[s]['box'][0])\n",
    "        #print (sigma)\n",
    "        #print (sigmanorm)\n",
    "\n",
    "    plt.show () # Comment the syntax when plotting individual plots for each student"
   ]
  },
  {
   "cell_type": "markdown",
   "metadata": {},
   "source": [
    "### Run the system (Parameter value is the number of frames you want to run the system for)"
   ]
  },
  {
   "cell_type": "code",
   "execution_count": 33,
   "metadata": {
    "scrolled": false
   },
   "outputs": [
    {
     "name": "stdout",
     "output_type": "stream",
     "text": [
      "{1: {'x1': [234, 234, 234, 234, 234, 234, 234, 214, 234, 214, 214, 214, 214, 214, 214, 214, 214, 214, 214, 214, 214, 214, 214, 214, 214, 214, 214, 214, 214, 214, 214, 214, 214, 214, 214, 214, 214, 214, 214, 214, 214, 214, 214, 214, 214, 214, 214, 214, 214, 214, 214, 214, 234, 234, 234, 234, 234, 234, 234, 214, 214, 214, 214, 234, 234, 234, 234, 234, 214, 214, 214, 234, 234, 234, 234, 234, 234, 234, 234, 234, 234, 234, 234, 234, 234, 234, 234, 234, 234, 234, 234, 214, 214, 214, 214, 214, 234, 234, 254, 254, 254, 254, 254, 254, 254, 254, 254, 234, 234, 234, 234, 214, 214, 214, 214, 234, 234, 234, 234, 254, 254, 254, 254, 254, 254, 254, 254, 254, 234, 234, 234, 234, 234, 234, 234, 234, 234, 234, 234, 234, 234, 234, 234, 254, 254, 254, 254, 254, 254, 254, 254, 254, 254, 254, 254, 254, 254, 254, 234, 234, 234, 234, 234, 234, 234, 234, 234, 234, 234, 234, 234, 234, 234, 234, 234, 234, 234, 234, 234, 234, 234, 234, 234, 234, 234, 234, 234, 234, 234, 234, 234, 234, 234, 234, 234, 234, 234, 234, 234, 234, 234, 234, 234, 234, 234, 234, 234, 234, 234, 234, 234, 234, 234, 234, 234, 254, 254, 254, 254, 254, 254, 254, 254, 254, 254, 234, 234, 234, 234, 234, 234, 234, 234, 234, 234, 234, 234, 234, 234, 234, 234, 234], 'y1': [174, 174, 174, 174, 174, 174, 174, 174, 174, 174, 174, 174, 174, 174, 174, 174, 174, 174, 174, 174, 174, 174, 174, 174, 174, 174, 174, 174, 174, 174, 174, 174, 174, 174, 174, 174, 174, 174, 174, 174, 174, 174, 174, 174, 174, 174, 174, 174, 174, 174, 174, 174, 174, 174, 174, 174, 174, 174, 174, 174, 174, 174, 174, 174, 174, 174, 174, 174, 174, 174, 174, 174, 174, 174, 174, 174, 174, 174, 174, 174, 174, 174, 174, 174, 174, 174, 174, 174, 174, 174, 174, 174, 174, 154, 174, 174, 174, 174, 174, 174, 174, 174, 154, 174, 174, 174, 174, 174, 174, 174, 174, 174, 174, 174, 174, 174, 174, 174, 174, 174, 174, 174, 174, 174, 174, 174, 174, 174, 174, 174, 174, 174, 174, 174, 174, 174, 174, 174, 174, 174, 174, 174, 174, 174, 174, 174, 174, 174, 174, 174, 174, 174, 174, 174, 174, 174, 174, 174, 194, 194, 194, 194, 194, 194, 194, 194, 194, 194, 194, 194, 194, 194, 194, 194, 194, 194, 194, 194, 194, 194, 194, 194, 194, 194, 194, 194, 194, 194, 194, 194, 194, 194, 194, 194, 194, 194, 194, 194, 194, 194, 194, 194, 194, 194, 194, 194, 174, 194, 174, 194, 194, 174, 174, 174, 174, 154, 154, 154, 154, 174, 174, 154, 174, 174, 174, 174, 174, 174, 174, 174, 174, 174, 174, 174, 174, 174, 174, 174, 174, 174, 174, 174], 'df':      x0   y0   x1   y1   x2   y2   x3   y3   x4   y4  ...  x237  y237  x238  \\\n",
      "0   226  216  226  218  226  219  226  217  225  216  ...   237   228   238   \n",
      "1   227  239  227  242  227  242  227  242  226  239  ...   239   251   240   \n",
      "2   230  262  230  264  231  264  230  264  229  261  ...   244   272   244   \n",
      "3   235  283  235  286  236  286  235  286  233  283  ...   250   293   250   \n",
      "4   245  304  245  306  245  306  245  306  243  303  ...   261   312   260   \n",
      "..  ...  ...  ...  ...  ...  ...  ...  ...  ...  ...  ...   ...   ...   ...   \n",
      "63  324  304  324  305  323  305  324  305  323  306  ...   341   304   340   \n",
      "64  342  304  341  305  341  306  342  305  341  306  ...   358   302   358   \n",
      "65  325  308  325  308  324  309  325  308  323  308  ...   342   305   341   \n",
      "66  317  309  317  309  316  309  317  309  316  309  ...   334   306   333   \n",
      "67  308  307  308  308  307  308  308  308  307  308  ...   325   305   324   \n",
      "\n",
      "    y238  x239  y239  x240  y240  x241  y241  \n",
      "0    225   238   224   239   223   239   220  \n",
      "1    248   240   248   240   247   241   243  \n",
      "2    270   244   271   244   269   244   266  \n",
      "3    291   249   292   249   290   249   287  \n",
      "4    310   260   311   259   309   258   307  \n",
      "..   ...   ...   ...   ...   ...   ...   ...  \n",
      "63   306   341   307   339   305   337   306  \n",
      "64   304   357   305   357   304   355   304  \n",
      "65   306   341   306   340   306   338   305  \n",
      "66   307   333   307   332   307   330   306  \n",
      "67   306   324   306   323   305   322   304  \n",
      "\n",
      "[68 rows x 484 columns], 'sd': 10, 'box': [234, 413]}}\n"
     ]
    },
    {
     "data": {
      "image/png": "[encoded data removed]",
      "text/plain": [
       "<Figure size 432x288 with 1 Axes>"
      ]
     },
     "metadata": {
      "needs_background": "light"
     },
     "output_type": "display_data"
    }
   ],
   "source": [
    "student_monitoring (300)"
   ]
  },
  {
   "cell_type": "code",
   "execution_count": null,
   "metadata": {},
   "outputs": [],
   "source": []
  },
  {
   "cell_type": "code",
   "execution_count": null,
   "metadata": {},
   "outputs": [],
   "source": [
    "def symmetry (students):\n",
    "    \n",
    "    "
   ]
  }
 ],
 "metadata": {
  "kernelspec": {
   "display_name": "Python 3",
   "language": "python",
   "name": "python3"
  },
  "language_info": {
   "codemirror_mode": {
    "name": "ipython",
    "version": 3
   },
   "file_extension": ".py",
   "mimetype": "text/x-python",
   "name": "python",
   "nbconvert_exporter": "python",
   "pygments_lexer": "ipython3",
   "version": "3.7.5"
  }
 },
 "nbformat": 4,
 "nbformat_minor": 2
}
