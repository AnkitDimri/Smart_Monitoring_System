{
 "cells": [
  {
   "cell_type": "markdown",
   "metadata": {},
   "source": [
    "<h1><center>Student Monitoring System</center></h1>\n"
   ]
  },
  {
   "cell_type": "code",
   "execution_count": 1,
   "metadata": {},
   "outputs": [],
   "source": [
    "# Import libraries\n",
    "import cv2\n",
    "import dlib\n",
    "import numpy as np\n",
    "import matplotlib.pyplot as plt\n",
    "import pandas as pd\n",
    "from scipy.stats import norm"
   ]
  },
  {
   "cell_type": "markdown",
   "metadata": {},
   "source": [
    "### Function to find the distracted student in the dictionary of students present in the class"
   ]
  },
  {
   "cell_type": "code",
   "execution_count": 2,
   "metadata": {},
   "outputs": [],
   "source": [
    "# Find the distraced student based on the data present in the dictionary\n",
    "# Variance for all the student coordinate data is created and put in a list. Then mean and variance of this data is\n",
    "# found, The variances are normalized based on the size of the box. Greater the size of the box neaerer is the \n",
    "# student hence higher variance and vice versa. They are normalized on the basis of box size and the distraced\n",
    "# student is found whose normalized variance is higher than the mean+variance of this data of normalized variances\n",
    "\n",
    "def find_distracted (students):\n",
    "        \n",
    "    var_o_var = [] # To store the data of varinaces\n",
    "    for s in students:\n",
    "        \n",
    "        nt = students [s] ['df'].values [33].tolist()\n",
    "        ntx = nt [0::2]\n",
    "        mean = np.mean (ntx)\n",
    "        sigma = np.std (ntx)\n",
    "        sigmanorm = np.std(ntx)/abs(students [s]['box'][1] - students[s]['box'][0])\n",
    "\n",
    "        var_o_var.append (sigmanorm)\n",
    "        \n",
    "    sigma_s = np.std (var_o_var)\n",
    "    \n",
    "    mean_s = np.mean (var_o_var)\n",
    "    \n",
    "    disturbed = []\n",
    "    #print (\"threshold: \", mean_s + sigma_s)\n",
    "    for i in range (len (var_o_var)):\n",
    "        #print (var_o_var [i])\n",
    "        if var_o_var [i] > mean_s + sigma_s:\n",
    "            disturbed.append ((i+1))\n",
    "            \n",
    "    return disturbed\n",
    "        \n"
   ]
  },
  {
   "cell_type": "markdown",
   "metadata": {},
   "source": [
    "### Function to find the student the face found in the frame belongs to"
   ]
  },
  {
   "cell_type": "code",
   "execution_count": 10,
   "metadata": {},
   "outputs": [],
   "source": [
    "students = {}"
   ]
  },
  {
   "cell_type": "code",
   "execution_count": 3,
   "metadata": {},
   "outputs": [],
   "source": [
    "# Finding the student the face belongs to detected in the current frame\n",
    "# The face is said to belong to some student if the new coordinates of the box have high probablity of being a part\n",
    "# of that student based on the pdf (probablity distribution) formed using the prior data of the coordinates\n",
    "# The face is then said to be the part of a student for whom the probablity is maximum and above the threshold\n",
    "# 0.00000001 \n",
    "# If the probablity does not exceed the threshold the face is said to be a new student and a new student entry is \n",
    "# made in the dictionary of students\n",
    "\n",
    "def find_face (x1,y1,stu):\n",
    "    \n",
    "    maxx = 0.0 # variable\n",
    "    maxy = 0.0 # variable\n",
    "    sdnt = ''\n",
    "    flag = 0 # Threshold satisfaction flag\n",
    "    \n",
    "    for s in stu:\n",
    "        temp1 = norm.pdf (x1, np.mean (stu [s] ['x1']), stu [s]['sd']) # Find probablity for x coordinate\n",
    "        temp2 = norm.pdf (y1 ,np.mean (stu [s] ['y1']), stu [s]['sd']) # Find probablity for y coordinate\n",
    "        if (temp1 > maxx and temp1 > 0.00000001): # Check threshold for x\n",
    "            maxx = temp1\n",
    "            if(temp2 > maxy and temp2 > 0.00000001): # Check threshold for y\n",
    "                maxy = temp2\n",
    "                sdnt = s\n",
    "                flag = 1 # Student found\n",
    "            \n",
    "    if (flag == 0): # No student found so new entry in the dictionary created\n",
    "        stu [len (stu) + 1] = {'x1': [x1],'y1':[y1], 'df':pd.DataFrame (), 'sd': 10}\n",
    "        return (len (stu), stu)\n",
    "    \n",
    "    stu [sdnt] ['x1'].append (x1)\n",
    "    stu [sdnt] ['y1'].append (y1)\n",
    "    return (sdnt, stu)"
   ]
  },
  {
   "cell_type": "markdown",
   "metadata": {},
   "source": [
    "### Main function of the system"
   ]
  },
  {
   "cell_type": "code",
   "execution_count": 4,
   "metadata": {},
   "outputs": [],
   "source": [
    "# Main function which monitors the student\n",
    "\n",
    "def student_monitoring (n):\n",
    "    \n",
    "    df = pd.DataFrame()\n",
    "    students = {} # Dictionary which will store the data of all students detected in the video frames\n",
    "    distracted = [] # Holds the value of current distracted student\n",
    "\n",
    "    cap = cv2.VideoCapture(0) # Start capturing the video\n",
    "    detector = dlib.get_frontal_face_detector() # DLIB library face detector\n",
    "    predictor = dlib.shape_predictor(\"shape_predictor_68_face_landmarks.dat\") # Landmark detetctor\n",
    "\n",
    "    for i in range (n): # Run the system for n number of frames as passed by the user\n",
    "        _, frame = cap.read() # Read one frame\n",
    "        gray = cv2.cvtColor(frame, cv2.COLOR_BGR2GRAY) # Grayscale them\n",
    "\n",
    "        faces = detector(gray) # Detect the faces in the frame using the DLIB face detector\n",
    "\n",
    "        for face in faces: # For all the faces found in the frame\n",
    "\n",
    "            x1 = face.left() # Top left x coordinate of the bounding box\n",
    "            y1 = face.top() # Top left y coordinate of the bounding box\n",
    "            x2 = face.right() # Bottom right x coordinate fo the bounding box\n",
    "            y2 = face.bottom() # Bottom right y coordinate of the bounding box\n",
    "\n",
    "\n",
    "            f, students = find_face(x1, y1, students) # Find the student the given face belongs to\n",
    "            \n",
    "\n",
    "            #print (\"student (f): \", f)\n",
    "            #print (\"distracted: \", distracted)\n",
    "            # If the given student is the distracted student found as per the prior iteration, bound the student \n",
    "            # with blue box\n",
    "            if f in distracted:\n",
    "                cv2.rectangle(frame, (x1, y1), (x2, y2), (0, 0, 255), 3)\n",
    "            else:\n",
    "                cv2.rectangle(frame, (x1, y1), (x2, y2), (255, 0, 0), 3)\n",
    "\n",
    "            # Find the landmarks on the given face    \n",
    "            landmarks = predictor(gray, face)\n",
    "            xc = []\n",
    "            yc = []\n",
    "            for n in range(0, 68):\n",
    "                x = landmarks.part(n).x\n",
    "                y = landmarks.part(n).y\n",
    "                xc.append(x)\n",
    "                yc.append(y)\n",
    "                # Mark the landmarks on the face in the frame\n",
    "                cv2.circle(frame, (x, y), 4, (255, 0, 0), -1)\n",
    "            \n",
    "            index = int (len (students [f] ['df'].columns) / 2)\n",
    "            students [f] ['df'] ['x'+str(index)] = xc\n",
    "            students [f] ['df'] ['y'+str(index)] = yc\n",
    "            students [f] ['box'] = list ((x1, x2))\n",
    "        \n",
    "        \n",
    "        cv2.imshow(\"Frame\", frame)\n",
    "        # Print the number of distinct students detected by the system\n",
    "        #print (len (students))\n",
    "        \n",
    "        # Find the distracted student based on the current data\n",
    "        distracted = find_distracted (students)\n",
    "        \n",
    "\n",
    "        key = cv2.waitKey(1)\n",
    "        if key == 27:\n",
    "            break\n",
    "\n",
    "    cap.release ()\n",
    "    cv2.destroyAllWindows ()\n",
    "    \n",
    "    print (students)\n",
    "    \n",
    "    # plot the distribution of nose points\n",
    "    plot_distributions (students)"
   ]
  },
  {
   "cell_type": "markdown",
   "metadata": {},
   "source": [
    "### Plot the probablity distribution of students woth respect to their x coordinates"
   ]
  },
  {
   "cell_type": "code",
   "execution_count": 5,
   "metadata": {},
   "outputs": [],
   "source": [
    "def plot_distributions (students):\n",
    "\n",
    "    for s in students:\n",
    "\n",
    "        nt = students [s] ['df'].values [33].tolist()\n",
    "        ntx = nt [0::2]\n",
    "        ntx.sort()\n",
    "        mean = np.mean (ntx)\n",
    "        sigma = np.std (ntx)\n",
    "        sigmanorm = np.std(ntx)/abs(students [s]['box'][1] - students[s]['box'][0])\n",
    "        plt.plot (ntx, norm.pdf (ntx, mean, sigma))\n",
    "        #plt.show () # Uncomment the syntax to get individual plots of each student\n",
    "        \n",
    "        # Comment all print statements to just get the plot\n",
    "        #print (s)\n",
    "        #print (ntx)\n",
    "        #print (students [s]['box'][1] - students[s]['box'][0])\n",
    "        #print (sigma)\n",
    "        #print (sigmanorm)\n",
    "\n",
    "    plt.show () # Comment the syntax when plotting individual plots for each student"
   ]
  },
  {
   "cell_type": "markdown",
   "metadata": {},
   "source": [
    "### Run the system (Parameter value is the number of frames you want to run the system for)"
   ]
  },
  {
   "cell_type": "code",
   "execution_count": 6,
   "metadata": {
    "scrolled": false
   },
   "outputs": [
    {
     "name": "stderr",
     "output_type": "stream",
     "text": [
      "/home/ankit/.local/lib/python3.7/site-packages/numpy/core/_methods.py:217: RuntimeWarning: Degrees of freedom <= 0 for slice\n",
      "  keepdims=keepdims)\n",
      "/home/ankit/.local/lib/python3.7/site-packages/numpy/core/_methods.py:186: RuntimeWarning: invalid value encountered in true_divide\n",
      "  arrmean, rcount, out=arrmean, casting='unsafe', subok=False)\n",
      "/home/ankit/.local/lib/python3.7/site-packages/numpy/core/_methods.py:209: RuntimeWarning: invalid value encountered in double_scalars\n",
      "  ret = ret.dtype.type(ret / rcount)\n",
      "/home/ankit/.local/lib/python3.7/site-packages/numpy/core/fromnumeric.py:3335: RuntimeWarning: Mean of empty slice.\n",
      "  out=out, **kwargs)\n",
      "/home/ankit/.local/lib/python3.7/site-packages/numpy/core/_methods.py:161: RuntimeWarning: invalid value encountered in double_scalars\n",
      "  ret = ret.dtype.type(ret / rcount)\n"
     ]
    },
    {
     "name": "stdout",
     "output_type": "stream",
     "text": [
      "{1: {'x1': [254, 254, 254, 254, 254, 254, 254, 254, 254, 254, 254, 254, 254, 254, 254, 254, 254, 254, 254, 254, 254, 254, 254, 254, 254, 254, 254, 254, 254, 254, 254, 254, 254, 254, 254, 254, 254, 254, 254, 254, 254, 254, 254, 254, 254, 254, 254, 254, 254, 254, 254, 254, 254, 254, 254, 254, 254, 254, 277, 273, 273, 273, 273, 273, 273, 273, 273, 273, 293, 293, 293, 273, 273, 273, 273, 273, 273, 273, 254, 254, 254, 254, 234, 234, 214, 214, 214, 214, 214, 214, 214, 214, 214, 214, 214, 214, 214, 214, 214, 214, 214, 214, 214, 214, 214, 214, 214, 214, 214, 214, 214, 214, 214, 234, 234, 254, 254, 254, 273, 273, 273, 273, 273, 273, 273, 273, 277, 254, 254, 234, 234, 214, 214, 194, 194, 194, 194, 194, 214, 214, 209, 234, 261, 254, 254, 277, 273, 294, 294, 294, 294, 294, 294, 294, 294, 273, 277, 254, 254, 233, 234, 209, 214, 214, 194, 194, 194, 194, 194, 214, 214, 209, 234, 234, 234, 254, 254, 254, 254, 273, 273, 273, 273, 294, 273, 273, 294, 294, 273, 294, 294, 273, 273, 273, 294, 273, 273, 273, 273, 273, 294, 273, 273, 273, 273, 294, 273, 294, 294, 294, 294, 294, 294, 294, 294, 294, 294, 294, 294, 294, 294, 294, 294, 294, 294, 294, 294, 294, 294, 294, 294, 294, 294, 294, 294, 294, 294, 294, 294, 294, 294, 294, 294, 294, 273, 273, 273, 277, 277, 277, 254, 254, 254, 234, 234, 234, 234, 214, 214], 'y1': [273, 273, 273, 273, 273, 273, 273, 273, 273, 273, 273, 273, 273, 273, 273, 273, 273, 273, 273, 273, 273, 273, 273, 273, 273, 273, 273, 273, 273, 273, 273, 273, 273, 273, 273, 273, 273, 273, 273, 273, 273, 273, 273, 273, 273, 273, 273, 273, 273, 273, 273, 273, 273, 273, 273, 273, 273, 273, 277, 273, 273, 273, 273, 273, 273, 273, 273, 273, 273, 273, 273, 273, 273, 273, 273, 273, 273, 273, 273, 273, 273, 273, 273, 273, 254, 254, 273, 273, 273, 273, 273, 273, 273, 273, 273, 273, 273, 273, 273, 273, 273, 273, 273, 273, 273, 273, 273, 273, 273, 273, 273, 273, 273, 273, 273, 273, 273, 273, 273, 273, 273, 273, 273, 273, 273, 273, 294, 273, 273, 273, 273, 273, 273, 273, 273, 273, 273, 273, 293, 273, 281, 273, 294, 273, 273, 294, 273, 294, 294, 294, 294, 294, 294, 294, 294, 293, 294, 273, 293, 281, 293, 281, 293, 293, 273, 273, 273, 273, 273, 293, 293, 281, 273, 273, 273, 273, 273, 273, 273, 273, 273, 273, 273, 294, 273, 273, 294, 294, 273, 294, 294, 273, 273, 273, 294, 273, 273, 273, 273, 273, 294, 273, 273, 273, 273, 294, 273, 294, 294, 294, 294, 294, 294, 294, 294, 294, 294, 294, 294, 294, 294, 294, 294, 294, 294, 294, 294, 294, 294, 294, 294, 294, 294, 294, 294, 294, 294, 294, 294, 294, 294, 294, 294, 294, 273, 273, 273, 294, 294, 294, 273, 273, 273, 273, 273, 273, 273, 273, 273], 'df':      x0   y0   x1   y1   x2   y2   x3   y3   x4   y4  ...  x254  y254  x255  \\\n",
      "0   272  327  271  326  272  321  273  320  273  319  ...   251   324   248   \n",
      "1   272  348  271  346  271  341  272  340  272  339  ...   250   344   248   \n",
      "2   274  368  272  367  272  362  273  361  273  360  ...   252   365   249   \n",
      "3   277  389  275  388  275  384  275  382  275  381  ...   255   384   252   \n",
      "4   283  409  281  408  279  405  279  403  279  402  ...   261   404   257   \n",
      "..  ...  ...  ...  ...  ...  ...  ...  ...  ...  ...  ...   ...   ...   ...   \n",
      "63  352  397  351  398  350  399  350  397  350  397  ...   329   407   322   \n",
      "64  370  401  368  402  367  402  367  401  367  401  ...   346   408   340   \n",
      "65  352  404  351  403  350  402  350  401  350  401  ...   329   406   322   \n",
      "66  344  405  343  404  342  403  342  401  342  402  ...   322   407   315   \n",
      "67  337  404  336  403  335  402  335  400  335  401  ...   315   406   308   \n",
      "\n",
      "    y255  x256  y256  x257  y257  x258  y258  \n",
      "0    326   246   325   245   318   246   325  \n",
      "1    346   245   344   244   337   244   343  \n",
      "2    366   246   364   245   358   245   362  \n",
      "3    385   248   383   247   378   246   380  \n",
      "4    404   253   403   250   398   248   399  \n",
      "..   ...   ...   ...   ...   ...   ...   ...  \n",
      "63   407   316   407   309   407   301   407  \n",
      "64   409   335   409   328   408   321   409  \n",
      "65   407   316   407   308   407   301   407  \n",
      "66   407   309   407   301   407   294   407  \n",
      "67   406   302   407   295   406   287   406  \n",
      "\n",
      "[68 rows x 518 columns], 'sd': 10, 'box': [214, 393]}, 2: {'x1': [194, 194, 194, 194, 194, 185, 185, 185, 185, 185, 185, 185, 185, 185, 185, 185, 185, 185, 185, 185, 185], 'y1': [254, 254, 254, 254, 254, 257, 257, 257, 257, 257, 257, 257, 257, 257, 257, 257, 257, 257, 257, 257, 257], 'df':      x0   y0   x1   y1   x2   y2   x3   y3   x4   y4  ...  x16  y16  x17  y17  \\\n",
      "0   224  326  224  327  225  325  224  325  226  328  ...  238  323  237  327   \n",
      "1   224  344  224  345  226  343  224  344  226  347  ...  235  341  233  345   \n",
      "2   227  363  227  365  229  363  227  364  229  367  ...  233  361  232  365   \n",
      "3   231  382  230  383  232  382  230  382  233  386  ...  233  380  234  385   \n",
      "4   237  401  236  401  238  401  237  401  239  404  ...  236  399  237  405   \n",
      "..  ...  ...  ...  ...  ...  ...  ...  ...  ...  ...  ...  ...  ...  ...  ...   \n",
      "63  299  392  298  393  298  393  299  393  301  393  ...  286  419  289  420   \n",
      "64  316  393  316  393  316  393  317  393  319  394  ...  304  419  308  421   \n",
      "65  298  392  298  392  298  393  298  392  300  393  ...  285  408  288  411   \n",
      "66  290  393  290  394  290  394  291  394  293  394  ...  279  408  282  411   \n",
      "67  283  394  283  394  284  394  284  394  286  394  ...  274  406  276  409   \n",
      "\n",
      "    x18  y18  x19  y19  x20  y20  \n",
      "0   231  320  233  315  233  319  \n",
      "1   228  340  231  336  230  338  \n",
      "2   226  362  229  358  228  360  \n",
      "3   227  383  231  379  230  381  \n",
      "4   232  404  235  400  235  401  \n",
      "..  ...  ...  ...  ...  ...  ...  \n",
      "63  292  421  294  417  287  415  \n",
      "64  307  421  313  414  308  414  \n",
      "65  291  409  294  406  287  408  \n",
      "66  285  408  287  406  281  408  \n",
      "67  280  407  282  405  276  407  \n",
      "\n",
      "[68 rows x 42 columns], 'sd': 10, 'box': [185, 400]}}\n"
     ]
    },
    {
     "data": {
      "image/png": "[encoded data removed]",
      "text/plain": [
       "<Figure size 432x288 with 1 Axes>"
      ]
     },
     "metadata": {
      "needs_background": "light"
     },
     "output_type": "display_data"
    }
   ],
   "source": [
    "student_monitoring (300)"
   ]
  },
  {
   "cell_type": "code",
   "execution_count": null,
   "metadata": {},
   "outputs": [],
   "source": []
  },
  {
   "cell_type": "code",
   "execution_count": null,
   "metadata": {},
   "outputs": [],
   "source": [
    "def symmetry (students):\n",
    "    \n",
    "    \n",
    "    var_o_var = [] # To store the data of varinaces\n",
    "    for s in students:\n",
    "        \n",
    "        p0 = students [s] ['df'].values [0].tolist()\n",
    "        p16 = students [s] ['df'].values [16].tolist()\n",
    "        p27 = students [s] ['df'].values [27].tolist()\n",
    "        \n",
    "        p0x = p0 [0::2]\n",
    "        p16x = p16 [0::2]\n",
    "        p27x = p27 [0::2]\n",
    "        \n",
    "        lside = []\n",
    "        rside = []\n",
    "        \n",
    "        for i, j in zip (p0x, p27x):\n",
    "            lside.append (abs (i - j))\n",
    "            \n",
    "        for i, j in zip (p16x, p27x):\n",
    "            rside.append (abs (i - j))\n",
    "        \n",
    "        \n",
    "        \n",
    "        \n",
    "        mean = np.mean (ntx)\n",
    "        sigma = np.std (ntx)\n",
    "        sigmanorm = np.std(ntx)/abs(students [s]['box'][1] - students[s]['box'][0])\n",
    "\n",
    "        var_o_var.append (sigmanorm)\n",
    "        \n",
    "    sigma_s = np.std (var_o_var)\n",
    "    \n",
    "    mean_s = np.mean (var_o_var)\n",
    "    \n",
    "    disturbed = []\n",
    "    #print (\"threshold: \", mean_s + sigma_s)\n",
    "    for i in range (len (var_o_var)):\n",
    "        #print (var_o_var [i])\n",
    "        if var_o_var [i] > mean_s + sigma_s:\n",
    "            disturbed.append ((i+1))\n",
    "            \n",
    "    return disturbed"
   ]
  }
 ],
 "metadata": {
  "kernelspec": {
   "display_name": "Python 3",
   "language": "python",
   "name": "python3"
  },
  "language_info": {
   "codemirror_mode": {
    "name": "ipython",
    "version": 3
   },
   "file_extension": ".py",
   "mimetype": "text/x-python",
   "name": "python",
   "nbconvert_exporter": "python",
   "pygments_lexer": "ipython3",
   "version": "3.7.5"
  }
 },
 "nbformat": 4,
 "nbformat_minor": 2
}
