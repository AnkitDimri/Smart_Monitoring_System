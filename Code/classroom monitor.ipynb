{
 "cells": [
  {
   "cell_type": "markdown",
   "metadata": {},
   "source": [
    "<h1><center>Student Monitoring System</center></h1>\n"
   ]
  },
  {
   "cell_type": "code",
   "execution_count": 1,
   "metadata": {},
   "outputs": [],
   "source": [
    "# Import libraries\n",
    "import cv2\n",
    "import dlib\n",
    "import numpy as np\n",
    "import matplotlib.pyplot as plt\n",
    "import pandas as pd\n",
    "from scipy.stats import norm"
   ]
  },
  {
   "cell_type": "markdown",
   "metadata": {},
   "source": [
    "### Function to find the distracted student in the dictionary of students present in the class"
   ]
  },
  {
   "cell_type": "code",
   "execution_count": 1,
   "metadata": {},
   "outputs": [],
   "source": [
    "# Find the distraced student based on the data present in the dictionary\n",
    "# Variance for all the student coordinate data is created and put in a list. Then mean and variance of this data is\n",
    "# found, The variances are normalized based on the size of the box. Greater the size of the box neaerer is the \n",
    "# student hence higher variance and vice versa. They are normalized on the basis of box size and the distraced\n",
    "# student is found whose normalized variance is higher than the mean+variance of this data of normalized variances\n",
    "\n",
    "def find_distracted (students):\n",
    "        \n",
    "    var_o_var = [] # To store the data of varinaces\n",
    "    key = []\n",
    "    for s in students:\n",
    "        \n",
    "        nt = students [s] ['df'].values [33].tolist()\n",
    "        ntx = nt [0::2]\n",
    "        mean = np.mean (ntx)\n",
    "        sigma = np.std (ntx)\n",
    "        sigmanorm = np.std(ntx)/abs(students [s]['box'][1] - students[s]['box'][0])\n",
    "\n",
    "        var_o_var.append (sigmanorm)\n",
    "        key.append (s)\n",
    "        \n",
    "    sigma_s = np.std (var_o_var)\n",
    "    \n",
    "    mean_s = np.mean (var_o_var)\n",
    "    \n",
    "    disturbed = []\n",
    "    #print (\"threshold: \", mean_s + sigma_s)\n",
    "    for i in range (len (var_o_var)):\n",
    "        #print (var_o_var [i])\n",
    "        if var_o_var [i] > mean_s + sigma_s:\n",
    "            disturbed.append (key [i])\n",
    "            \n",
    "    return disturbed\n",
    "        \n"
   ]
  },
  {
   "cell_type": "code",
   "execution_count": 3,
   "metadata": {},
   "outputs": [],
   "source": [
    "#########Function to get disturbed students by weighting landmarks\n",
    "def find_distractedw (students):\n",
    "        \n",
    "    var_o_var = []\n",
    "    for s in students:\n",
    "        #26,32,7,1,13\n",
    "        nt1 = students [s] ['df'].values [27].tolist()#mid of eyes\n",
    "        nt2 = students [s] ['df'].values [33].tolist()#nose\n",
    "        nt3 = students [s] ['df'].values [8].tolist()#chin\n",
    "        nt4 = students [s] ['df'].values [14].tolist()#rightmost\n",
    "        nt5 = students [s] ['df'].values [2].tolist()#leftmost\n",
    "        nt1 = nt1[0::2]\n",
    "        nt2 = nt1[0::2]\n",
    "        nt3 = nt1[0::2]\n",
    "        nt4 = nt1[0::2]\n",
    "        nt5 = nt1[0::2]\n",
    "        \n",
    "        meant1 = np.mean (nt1)\n",
    "        sigmant1 = np.std (nt1)\n",
    "        sigmanormnt1 = sigmant1/abs(students [s]['box'][1] - students[s]['box'][0])\n",
    "        \n",
    "        meant2 = np.mean (nt2)\n",
    "        sigmant2 = np.std (nt2)\n",
    "        sigmanormnt2 = sigmant2/abs(students [s]['box'][1] - students[s]['box'][0])\n",
    "        \n",
    "        meant3 = np.mean (nt3)\n",
    "        sigmant3 = np.std (nt3)\n",
    "        sigmanormnt3 = sigmant3/abs(students [s]['box'][1] - students[s]['box'][0])\n",
    "        \n",
    "        meant4 = np.mean (nt4)\n",
    "        sigmant4 = np.std (nt4)\n",
    "        sigmanormnt4 = sigmant4/abs(students [s]['box'][1] - students[s]['box'][0])\n",
    "        \n",
    "        meant5 = np.mean (nt5)\n",
    "        sigmant5 = np.std (nt5)\n",
    "        sigmanormnt5 = sigmant5/abs(students [s]['box'][1] - students[s]['box'][0])\n",
    "        \n",
    "        w1 = 2.5\n",
    "        w2 = 3\n",
    "        w3 = 2.5\n",
    "        w4 = 1.5\n",
    "        w5 = 1.5\n",
    "        \n",
    "       \n",
    "        var_o_var.append (w1*sigmanormnt1 + w2*sigmanormnt2 + w3*sigmanormnt3 + w4*sigmanormnt4 + w5*sigmanormnt5)\n",
    "        \n",
    "    sigma_s = np.std (var_o_var)\n",
    "    \n",
    "    mean_s = np.mean (var_o_var)\n",
    "    \n",
    "    disturbed = []\n",
    "    print (\"threshold: \", mean_s + sigma_s)\n",
    "    for i in range (len (var_o_var)):\n",
    "        print (var_o_var [i])\n",
    "        if var_o_var [i] >=mean_s + sigma_s:\n",
    "            disturbed.append ((i+1))\n",
    "            \n",
    "    return disturbed"
   ]
  },
  {
   "cell_type": "markdown",
   "metadata": {},
   "source": [
    "### Function to find the student the face found in the frame belongs to"
   ]
  },
  {
   "cell_type": "code",
   "execution_count": 4,
   "metadata": {},
   "outputs": [],
   "source": [
    "# Finding the student the face belongs to detected in the current frame\n",
    "# The face is said to belong to some student if the new coordinates of the box have high probablity of being a part\n",
    "# of that student based on the pdf (probablity distribution) formed using the prior data of the coordinates\n",
    "# The face is then said to be the part of a student for whom the probablity is maximum and above the threshold\n",
    "# 0.00000001 \n",
    "# If the probablity does not exceed the threshold the face is said to be a new student and a new student entry is \n",
    "# made in the dictionary of students\n",
    "\n",
    "def find_face (x1,y1,stu):\n",
    "    \n",
    "    maxx = 0.0 # variable\n",
    "    maxy = 0.0 # variable\n",
    "    sdnt = ''\n",
    "    flag = 0 # Threshold satisfaction flag\n",
    "    \n",
    "    for s in stu:\n",
    "        temp1 = norm.pdf (x1, np.mean (stu [s] ['x1']), stu [s]['sd']) # Find probablity for x coordinate\n",
    "        temp2 = norm.pdf (y1 ,np.mean (stu [s] ['y1']), stu [s]['sd']) # Find probablity for y coordinate\n",
    "        if (temp1 > maxx and temp1 > 0.00000001): # Check threshold for x\n",
    "            maxx = temp1\n",
    "            if(temp2 > maxy and temp2 > 0.00000001): # Check threshold for y\n",
    "                maxy = temp2\n",
    "                sdnt = s\n",
    "                flag = 1 # Student found\n",
    "            \n",
    "    if (flag == 0): # No student found so new entry in the dictionary created\n",
    "        stu [len (stu) + 1] = {'x1': [x1],'y1':[y1], 'df':pd.DataFrame (), 'sd': 10}\n",
    "        return (len (stu), stu)\n",
    "    \n",
    "    stu [sdnt] ['x1'].append (x1)\n",
    "    stu [sdnt] ['y1'].append (y1)\n",
    "    return (sdnt, stu)"
   ]
  },
  {
   "cell_type": "markdown",
   "metadata": {},
   "source": [
    "### Main function of the system"
   ]
  },
  {
   "cell_type": "code",
   "execution_count": 5,
   "metadata": {},
   "outputs": [],
   "source": [
    "# Main function which monitors the student\n",
    "\n",
    "def student_monitoring (n):\n",
    "    \n",
    "    df = pd.DataFrame()\n",
    "    students = {} # Dictionary which will store the data of all students detected in the video frames\n",
    "    distracted = [] # Holds the value of current distracted student\n",
    "    symm = []\n",
    "    behaviour = []\n",
    "\n",
    "    cap = cv2.VideoCapture(0) # Start capturing the video\n",
    "    detector = dlib.get_frontal_face_detector() # DLIB library face detector\n",
    "    predictor = dlib.shape_predictor(\"shape_predictor_68_face_landmarks.dat\") # Landmark detetctor\n",
    "\n",
    "    for i in range (n): # Run the system for n number of frames as passed by the user\n",
    "        _, frame = cap.read() # Read one frame\n",
    "        gray = cv2.cvtColor(frame, cv2.COLOR_BGR2GRAY) # Grayscale them\n",
    "\n",
    "        faces = detector(gray) # Detect the faces in the frame using the DLIB face detector\n",
    "\n",
    "        for face in faces: # For all the faces found in the frame\n",
    "\n",
    "            x1 = face.left() # Top left x coordinate of the bounding box\n",
    "            y1 = face.top() # Top left y coordinate of the bounding box\n",
    "            x2 = face.right() # Bottom right x coordinate fo the bounding box\n",
    "            y2 = face.bottom() # Bottom right y coordinate of the bounding box\n",
    "\n",
    "\n",
    "            f, students = find_face(x1, y1, students) # Find the student the given face belongs to\n",
    "            \n",
    "\n",
    "            #print (\"student (f): \", f)\n",
    "            #print (\"distracted: \", distracted)\n",
    "            # If the given student is the distracted student found as per the prior iteration, bound the student \n",
    "            # with blue box\n",
    "            if f in distracted:\n",
    "                cv2.rectangle(frame, (x1, y1), (x2, y2), (0, 0, 255), 3)\n",
    "            else:\n",
    "                cv2.rectangle(frame, (x1, y1), (x2, y2), (255, 0, 0), 3)\n",
    "\n",
    "            # Find the landmarks on the given face    \n",
    "            landmarks = predictor(gray, face)\n",
    "            xc = []\n",
    "            yc = []\n",
    "            for n in range(0, 68):\n",
    "                x = landmarks.part(n).x\n",
    "                y = landmarks.part(n).y\n",
    "                xc.append(x)\n",
    "                yc.append(y)\n",
    "                # Mark the landmarks on the face in the frame\n",
    "                cv2.circle(frame, (x, y), 4, (255, 0, 0), -1)\n",
    "            \n",
    "            index = int (len (students [f] ['df'].columns) / 2)\n",
    "            students [f] ['df'] ['x'+str(index)] = xc\n",
    "            students [f] ['df'] ['y'+str(index)] = yc\n",
    "            students [f] ['box'] = list ((x1, x2))\n",
    "        \n",
    "        \n",
    "        cv2.imshow(\"Frame\", frame)\n",
    "        # Print the number of distinct students detected by the system\n",
    "        #print (len (students))\n",
    "        \n",
    "        # Find the distracted student based on the current data\n",
    "        behaviour = find_distracted (students)\n",
    "        symm = symmetry (students)\n",
    "        distracted = find_distractedw (students)\n",
    "        \n",
    "\n",
    "        key = cv2.waitKey(1)\n",
    "        if key == 27:\n",
    "            break\n",
    "\n",
    "    cap.release ()\n",
    "    cv2.destroyAllWindows ()\n",
    "    \n",
    "    # plot the distribution of nose points\n",
    "    plot_distributions (students)"
   ]
  },
  {
   "cell_type": "markdown",
   "metadata": {},
   "source": [
    "### Plot the probablity distribution of students with respect to their x coordinates"
   ]
  },
  {
   "cell_type": "code",
   "execution_count": 6,
   "metadata": {},
   "outputs": [],
   "source": [
    "def plot_distributions (students):\n",
    "\n",
    "    for s in students:\n",
    "\n",
    "        nt = students [s] ['df'].values [33].tolist()\n",
    "        ntx = nt [0::2]\n",
    "        ntx.sort()\n",
    "        mean = np.mean (ntx)\n",
    "        sigma = np.std (ntx)\n",
    "        sigmanorm = np.std(ntx)/abs(students [s]['box'][1] - students[s]['box'][0])\n",
    "        plt.plot (ntx, norm.pdf (ntx, mean, sigma))\n",
    "        #plt.show () # Uncomment the syntax to get individual plots of each student\n",
    "        \n",
    "        # Comment all print statements to just get the plot\n",
    "        #print (s)\n",
    "        #print (ntx)\n",
    "        #print (students [s]['box'][1] - students[s]['box'][0])\n",
    "        #print (sigma)\n",
    "        #print (sigmanorm)\n",
    "\n",
    "    plt.show () # Comment the syntax when plotting individual plots for each student"
   ]
  },
  {
   "cell_type": "markdown",
   "metadata": {},
   "source": [
    "### Run the system (Parameter value is the number of frames you want to run the system for)"
   ]
  },
  {
   "cell_type": "code",
   "execution_count": 7,
   "metadata": {},
   "outputs": [],
   "source": [
    "def symmetry (students):\n",
    "    \n",
    "    distracted = []\n",
    "    for s in students:\n",
    "        \n",
    "        p0 = students [s] ['df'].values [0].tolist()\n",
    "        p16 = students [s] ['df'].values [16].tolist()\n",
    "        p27 = students [s] ['df'].values [27].tolist()\n",
    "        \n",
    "        \n",
    "        lside = abs (p0 [-2] - p27 [-2])\n",
    "        rside = abs (p16 [-2] - p27 [-2])\n",
    "        \n",
    "        if (norm.pdf (lside - rside, 0, 10) < 0.000001):\n",
    "            distracted.append (s)\n",
    "            \n",
    "    return distracted"
   ]
  },
  {
   "cell_type": "code",
   "execution_count": 8,
   "metadata": {},
   "outputs": [
    {
     "name": "stdout",
     "output_type": "stream",
     "text": [
      "threshold:  0.0\n",
      "0.0\n",
      "0.0\n"
     ]
    },
    {
     "ename": "NameError",
     "evalue": "name 'disturbedw' is not defined",
     "output_type": "error",
     "traceback": [
      "\u001b[0;31m---------------------------------------------------------------------------\u001b[0m",
      "\u001b[0;31mNameError\u001b[0m                                 Traceback (most recent call last)",
      "\u001b[0;32m<ipython-input-8-4105be93d5d8>\u001b[0m in \u001b[0;36m<module>\u001b[0;34m\u001b[0m\n\u001b[0;32m----> 1\u001b[0;31m \u001b[0mstudent_monitoring\u001b[0m \u001b[0;34m(\u001b[0m\u001b[0;36m300\u001b[0m\u001b[0;34m)\u001b[0m\u001b[0;34m\u001b[0m\u001b[0;34m\u001b[0m\u001b[0m\n\u001b[0m",
      "\u001b[0;32m<ipython-input-5-59263fbb28b8>\u001b[0m in \u001b[0;36mstudent_monitoring\u001b[0;34m(n)\u001b[0m\n\u001b[1;32m     64\u001b[0m         \u001b[0mbehaviour\u001b[0m \u001b[0;34m=\u001b[0m \u001b[0mfind_distracted\u001b[0m \u001b[0;34m(\u001b[0m\u001b[0mstudents\u001b[0m\u001b[0;34m)\u001b[0m\u001b[0;34m\u001b[0m\u001b[0;34m\u001b[0m\u001b[0m\n\u001b[1;32m     65\u001b[0m         \u001b[0msymm\u001b[0m \u001b[0;34m=\u001b[0m \u001b[0msymmetry\u001b[0m \u001b[0;34m(\u001b[0m\u001b[0mstudents\u001b[0m\u001b[0;34m)\u001b[0m\u001b[0;34m\u001b[0m\u001b[0;34m\u001b[0m\u001b[0m\n\u001b[0;32m---> 66\u001b[0;31m         \u001b[0mdistracted\u001b[0m \u001b[0;34m=\u001b[0m \u001b[0mfind_distractedw\u001b[0m \u001b[0;34m(\u001b[0m\u001b[0mstudents\u001b[0m\u001b[0;34m)\u001b[0m\u001b[0;34m\u001b[0m\u001b[0;34m\u001b[0m\u001b[0m\n\u001b[0m\u001b[1;32m     67\u001b[0m \u001b[0;34m\u001b[0m\u001b[0m\n\u001b[1;32m     68\u001b[0m \u001b[0;34m\u001b[0m\u001b[0m\n",
      "\u001b[0;32m<ipython-input-3-a7d2e0c45a35>\u001b[0m in \u001b[0;36mfind_distractedw\u001b[0;34m(students)\u001b[0m\n\u001b[1;32m     56\u001b[0m             \u001b[0mdisturbed\u001b[0m\u001b[0;34m.\u001b[0m\u001b[0mappend\u001b[0m \u001b[0;34m(\u001b[0m\u001b[0;34m(\u001b[0m\u001b[0mi\u001b[0m\u001b[0;34m+\u001b[0m\u001b[0;36m1\u001b[0m\u001b[0;34m)\u001b[0m\u001b[0;34m)\u001b[0m\u001b[0;34m\u001b[0m\u001b[0;34m\u001b[0m\u001b[0m\n\u001b[1;32m     57\u001b[0m \u001b[0;34m\u001b[0m\u001b[0m\n\u001b[0;32m---> 58\u001b[0;31m     \u001b[0;32mreturn\u001b[0m \u001b[0mdisturbedw\u001b[0m\u001b[0;34m\u001b[0m\u001b[0;34m\u001b[0m\u001b[0m\n\u001b[0m",
      "\u001b[0;31mNameError\u001b[0m: name 'disturbedw' is not defined"
     ]
    }
   ],
   "source": [
    "student_monitoring (300)"
   ]
  },
  {
   "cell_type": "code",
   "execution_count": null,
   "metadata": {},
   "outputs": [],
   "source": []
  }
 ],
 "metadata": {
  "kernelspec": {
   "display_name": "Python 3",
   "language": "python",
   "name": "python3"
  },
  "language_info": {
   "codemirror_mode": {
    "name": "ipython",
    "version": 3
   },
   "file_extension": ".py",
   "mimetype": "text/x-python",
   "name": "python",
   "nbconvert_exporter": "python",
   "pygments_lexer": "ipython3",
   "version": "3.7.5"
  }
 },
 "nbformat": 4,
 "nbformat_minor": 2
}
